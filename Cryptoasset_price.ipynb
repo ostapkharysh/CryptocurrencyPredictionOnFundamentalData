{
 "cells": [
  {
   "cell_type": "code",
   "execution_count": 1,
   "metadata": {
    "colab": {
     "base_uri": "https://localhost:8080/"
    },
    "id": "w-2BUmWC8zd9",
    "outputId": "50eed9f0-e69a-4a2c-b2fe-ea61fef54424"
   },
   "outputs": [
    {
     "name": "stderr",
     "output_type": "stream",
     "text": [
      "c:\\users\\user\\appdata\\local\\programs\\python\\python38\\lib\\site-packages\\statsmodels\\tsa\\base\\tsa_model.py:7: FutureWarning: pandas.Int64Index is deprecated and will be removed from pandas in a future version. Use pandas.Index with the appropriate dtype instead.\n",
      "  from pandas import (to_datetime, Int64Index, DatetimeIndex, Period,\n",
      "c:\\users\\user\\appdata\\local\\programs\\python\\python38\\lib\\site-packages\\statsmodels\\tsa\\base\\tsa_model.py:7: FutureWarning: pandas.Float64Index is deprecated and will be removed from pandas in a future version. Use pandas.Index with the appropriate dtype instead.\n",
      "  from pandas import (to_datetime, Int64Index, DatetimeIndex, Period,\n"
     ]
    },
    {
     "name": "stdout",
     "output_type": "stream",
     "text": [
      "Populating the interactive namespace from numpy and matplotlib\n"
     ]
    }
   ],
   "source": [
    "import pandas as pd\n",
    "import os\n",
    "import numpy as np\n",
    "from statsmodels.graphics.tsaplots import plot_acf,plot_pacf\n",
    "import matplotlib.pyplot as plt\n",
    "%matplotlib inline\n",
    "# Control the default size of figures in this Jupyter \n",
    "%pylab inline"
   ]
  },
  {
   "cell_type": "code",
   "execution_count": 2,
   "metadata": {
    "colab": {
     "base_uri": "https://localhost:8080/"
    },
    "id": "uG42fUwZ-NYS",
    "outputId": "1cb36863-7add-4b92-b8ed-769b2d7d1967"
   },
   "outputs": [],
   "source": [
    "#from google.colab import drive\n",
    "#drive.mount('/content/drive')"
   ]
  },
  {
   "cell_type": "code",
   "execution_count": 3,
   "metadata": {
    "id": "QzU23Gb5-c3j"
   },
   "outputs": [],
   "source": [
    "btc = pd.read_csv('datasets/btc.csv')"
   ]
  },
  {
   "cell_type": "code",
   "execution_count": 4,
   "metadata": {},
   "outputs": [],
   "source": [
    "X = btc.columns"
   ]
  },
  {
   "cell_type": "code",
   "execution_count": 5,
   "metadata": {},
   "outputs": [
    {
     "data": {
      "text/plain": [
       "144"
      ]
     },
     "execution_count": 5,
     "metadata": {},
     "output_type": "execute_result"
    }
   ],
   "source": [
    "len(X)"
   ]
  },
  {
   "cell_type": "code",
   "execution_count": 6,
   "metadata": {
    "colab": {
     "base_uri": "https://localhost:8080/"
    },
    "id": "Se36EHY9kUdj",
    "outputId": "a2c0c241-8c6c-4c6e-aaaa-3d6df84765b4"
   },
   "outputs": [],
   "source": [
    "CorrMatrix = btc.corr()"
   ]
  },
  {
   "cell_type": "code",
   "execution_count": 7,
   "metadata": {},
   "outputs": [
    {
     "data": {
      "text/html": [
       "<div>\n",
       "<style scoped>\n",
       "    .dataframe tbody tr th:only-of-type {\n",
       "        vertical-align: middle;\n",
       "    }\n",
       "\n",
       "    .dataframe tbody tr th {\n",
       "        vertical-align: top;\n",
       "    }\n",
       "\n",
       "    .dataframe thead th {\n",
       "        text-align: right;\n",
       "    }\n",
       "</style>\n",
       "<table border=\"1\" class=\"dataframe\">\n",
       "  <thead>\n",
       "    <tr style=\"text-align: right;\">\n",
       "      <th></th>\n",
       "      <th>AdrActCnt</th>\n",
       "      <th>AdrBal1in100KCnt</th>\n",
       "      <th>AdrBal1in100MCnt</th>\n",
       "      <th>AdrBal1in10BCnt</th>\n",
       "      <th>AdrBal1in10KCnt</th>\n",
       "      <th>AdrBal1in10MCnt</th>\n",
       "      <th>AdrBal1in1BCnt</th>\n",
       "      <th>AdrBal1in1KCnt</th>\n",
       "      <th>AdrBal1in1MCnt</th>\n",
       "      <th>AdrBalCnt</th>\n",
       "      <th>...</th>\n",
       "      <th>TxTfrCnt</th>\n",
       "      <th>TxTfrValAdjNtv</th>\n",
       "      <th>TxTfrValAdjUSD</th>\n",
       "      <th>TxTfrValMeanNtv</th>\n",
       "      <th>TxTfrValMeanUSD</th>\n",
       "      <th>TxTfrValMedNtv</th>\n",
       "      <th>TxTfrValMedUSD</th>\n",
       "      <th>VelCur1yr</th>\n",
       "      <th>VtyDayRet180d</th>\n",
       "      <th>VtyDayRet30d</th>\n",
       "    </tr>\n",
       "  </thead>\n",
       "  <tbody>\n",
       "    <tr>\n",
       "      <th>AdrActCnt</th>\n",
       "      <td>1.000000</td>\n",
       "      <td>-0.295957</td>\n",
       "      <td>0.959652</td>\n",
       "      <td>0.932884</td>\n",
       "      <td>0.108487</td>\n",
       "      <td>0.934049</td>\n",
       "      <td>0.945186</td>\n",
       "      <td>-0.154716</td>\n",
       "      <td>0.688873</td>\n",
       "      <td>0.937239</td>\n",
       "      <td>...</td>\n",
       "      <td>0.969170</td>\n",
       "      <td>0.415725</td>\n",
       "      <td>0.620344</td>\n",
       "      <td>-0.149944</td>\n",
       "      <td>0.471445</td>\n",
       "      <td>-0.093965</td>\n",
       "      <td>0.816682</td>\n",
       "      <td>-0.101739</td>\n",
       "      <td>-0.504837</td>\n",
       "      <td>-0.255180</td>\n",
       "    </tr>\n",
       "    <tr>\n",
       "      <th>AdrBal1in100KCnt</th>\n",
       "      <td>-0.295957</td>\n",
       "      <td>1.000000</td>\n",
       "      <td>-0.311911</td>\n",
       "      <td>-0.254478</td>\n",
       "      <td>-0.331607</td>\n",
       "      <td>-0.398082</td>\n",
       "      <td>-0.275746</td>\n",
       "      <td>-0.163269</td>\n",
       "      <td>-0.459963</td>\n",
       "      <td>-0.252451</td>\n",
       "      <td>...</td>\n",
       "      <td>-0.317946</td>\n",
       "      <td>-0.382872</td>\n",
       "      <td>-0.059261</td>\n",
       "      <td>0.196454</td>\n",
       "      <td>-0.053100</td>\n",
       "      <td>0.098166</td>\n",
       "      <td>-0.106880</td>\n",
       "      <td>-0.328383</td>\n",
       "      <td>-0.649076</td>\n",
       "      <td>0.107336</td>\n",
       "    </tr>\n",
       "    <tr>\n",
       "      <th>AdrBal1in100MCnt</th>\n",
       "      <td>0.959652</td>\n",
       "      <td>-0.311911</td>\n",
       "      <td>1.000000</td>\n",
       "      <td>0.978567</td>\n",
       "      <td>0.110501</td>\n",
       "      <td>0.964173</td>\n",
       "      <td>0.991210</td>\n",
       "      <td>-0.160749</td>\n",
       "      <td>0.705385</td>\n",
       "      <td>0.973496</td>\n",
       "      <td>...</td>\n",
       "      <td>0.936033</td>\n",
       "      <td>0.342639</td>\n",
       "      <td>0.596460</td>\n",
       "      <td>-0.158842</td>\n",
       "      <td>0.467595</td>\n",
       "      <td>-0.100729</td>\n",
       "      <td>0.784030</td>\n",
       "      <td>-0.133679</td>\n",
       "      <td>-0.485315</td>\n",
       "      <td>-0.270235</td>\n",
       "    </tr>\n",
       "    <tr>\n",
       "      <th>AdrBal1in10BCnt</th>\n",
       "      <td>0.932884</td>\n",
       "      <td>-0.254478</td>\n",
       "      <td>0.978567</td>\n",
       "      <td>1.000000</td>\n",
       "      <td>0.108065</td>\n",
       "      <td>0.895520</td>\n",
       "      <td>0.996777</td>\n",
       "      <td>-0.190684</td>\n",
       "      <td>0.583663</td>\n",
       "      <td>0.997028</td>\n",
       "      <td>...</td>\n",
       "      <td>0.891673</td>\n",
       "      <td>0.260677</td>\n",
       "      <td>0.683952</td>\n",
       "      <td>-0.128747</td>\n",
       "      <td>0.530808</td>\n",
       "      <td>-0.080340</td>\n",
       "      <td>0.810682</td>\n",
       "      <td>-0.218496</td>\n",
       "      <td>-0.405083</td>\n",
       "      <td>-0.215870</td>\n",
       "    </tr>\n",
       "    <tr>\n",
       "      <th>AdrBal1in10KCnt</th>\n",
       "      <td>0.108487</td>\n",
       "      <td>-0.331607</td>\n",
       "      <td>0.110501</td>\n",
       "      <td>0.108065</td>\n",
       "      <td>1.000000</td>\n",
       "      <td>0.109859</td>\n",
       "      <td>0.108865</td>\n",
       "      <td>-0.061891</td>\n",
       "      <td>0.036024</td>\n",
       "      <td>0.107419</td>\n",
       "      <td>...</td>\n",
       "      <td>0.110097</td>\n",
       "      <td>0.072873</td>\n",
       "      <td>0.309664</td>\n",
       "      <td>-0.113349</td>\n",
       "      <td>0.229333</td>\n",
       "      <td>-0.057074</td>\n",
       "      <td>0.357296</td>\n",
       "      <td>0.058248</td>\n",
       "      <td>-0.421704</td>\n",
       "      <td>-0.332325</td>\n",
       "    </tr>\n",
       "    <tr>\n",
       "      <th>...</th>\n",
       "      <td>...</td>\n",
       "      <td>...</td>\n",
       "      <td>...</td>\n",
       "      <td>...</td>\n",
       "      <td>...</td>\n",
       "      <td>...</td>\n",
       "      <td>...</td>\n",
       "      <td>...</td>\n",
       "      <td>...</td>\n",
       "      <td>...</td>\n",
       "      <td>...</td>\n",
       "      <td>...</td>\n",
       "      <td>...</td>\n",
       "      <td>...</td>\n",
       "      <td>...</td>\n",
       "      <td>...</td>\n",
       "      <td>...</td>\n",
       "      <td>...</td>\n",
       "      <td>...</td>\n",
       "      <td>...</td>\n",
       "      <td>...</td>\n",
       "    </tr>\n",
       "    <tr>\n",
       "      <th>TxTfrValMedNtv</th>\n",
       "      <td>-0.093965</td>\n",
       "      <td>0.098166</td>\n",
       "      <td>-0.100729</td>\n",
       "      <td>-0.080340</td>\n",
       "      <td>-0.057074</td>\n",
       "      <td>-0.138490</td>\n",
       "      <td>-0.087445</td>\n",
       "      <td>-0.144013</td>\n",
       "      <td>-0.239874</td>\n",
       "      <td>-0.079789</td>\n",
       "      <td>...</td>\n",
       "      <td>-0.101216</td>\n",
       "      <td>-0.120343</td>\n",
       "      <td>-0.067188</td>\n",
       "      <td>0.934852</td>\n",
       "      <td>-0.058092</td>\n",
       "      <td>1.000000</td>\n",
       "      <td>-0.101490</td>\n",
       "      <td>-0.099275</td>\n",
       "      <td>0.518596</td>\n",
       "      <td>0.123766</td>\n",
       "    </tr>\n",
       "    <tr>\n",
       "      <th>TxTfrValMedUSD</th>\n",
       "      <td>0.816682</td>\n",
       "      <td>-0.106880</td>\n",
       "      <td>0.784030</td>\n",
       "      <td>0.810682</td>\n",
       "      <td>0.357296</td>\n",
       "      <td>0.710752</td>\n",
       "      <td>0.803434</td>\n",
       "      <td>-0.503479</td>\n",
       "      <td>0.451780</td>\n",
       "      <td>0.820305</td>\n",
       "      <td>...</td>\n",
       "      <td>0.745514</td>\n",
       "      <td>0.126008</td>\n",
       "      <td>0.647192</td>\n",
       "      <td>-0.211772</td>\n",
       "      <td>0.501146</td>\n",
       "      <td>-0.101490</td>\n",
       "      <td>1.000000</td>\n",
       "      <td>-0.326634</td>\n",
       "      <td>-0.202220</td>\n",
       "      <td>-0.050680</td>\n",
       "    </tr>\n",
       "    <tr>\n",
       "      <th>VelCur1yr</th>\n",
       "      <td>-0.101739</td>\n",
       "      <td>-0.328383</td>\n",
       "      <td>-0.133679</td>\n",
       "      <td>-0.218496</td>\n",
       "      <td>0.058248</td>\n",
       "      <td>0.015809</td>\n",
       "      <td>-0.191981</td>\n",
       "      <td>0.237018</td>\n",
       "      <td>0.354171</td>\n",
       "      <td>-0.204888</td>\n",
       "      <td>...</td>\n",
       "      <td>-0.056968</td>\n",
       "      <td>0.484088</td>\n",
       "      <td>-0.284704</td>\n",
       "      <td>-0.133374</td>\n",
       "      <td>-0.204912</td>\n",
       "      <td>-0.099275</td>\n",
       "      <td>-0.326634</td>\n",
       "      <td>1.000000</td>\n",
       "      <td>0.039563</td>\n",
       "      <td>-0.066300</td>\n",
       "    </tr>\n",
       "    <tr>\n",
       "      <th>VtyDayRet180d</th>\n",
       "      <td>-0.504837</td>\n",
       "      <td>-0.649076</td>\n",
       "      <td>-0.485315</td>\n",
       "      <td>-0.405083</td>\n",
       "      <td>-0.421704</td>\n",
       "      <td>-0.584099</td>\n",
       "      <td>-0.432093</td>\n",
       "      <td>0.600602</td>\n",
       "      <td>-0.703672</td>\n",
       "      <td>-0.404610</td>\n",
       "      <td>...</td>\n",
       "      <td>-0.562346</td>\n",
       "      <td>-0.288359</td>\n",
       "      <td>-0.200798</td>\n",
       "      <td>0.316258</td>\n",
       "      <td>-0.149444</td>\n",
       "      <td>0.518596</td>\n",
       "      <td>-0.202220</td>\n",
       "      <td>0.039563</td>\n",
       "      <td>1.000000</td>\n",
       "      <td>0.580388</td>\n",
       "    </tr>\n",
       "    <tr>\n",
       "      <th>VtyDayRet30d</th>\n",
       "      <td>-0.255180</td>\n",
       "      <td>0.107336</td>\n",
       "      <td>-0.270235</td>\n",
       "      <td>-0.215870</td>\n",
       "      <td>-0.332325</td>\n",
       "      <td>-0.339057</td>\n",
       "      <td>-0.233865</td>\n",
       "      <td>0.421768</td>\n",
       "      <td>-0.427777</td>\n",
       "      <td>-0.209397</td>\n",
       "      <td>...</td>\n",
       "      <td>-0.295434</td>\n",
       "      <td>-0.088756</td>\n",
       "      <td>-0.083683</td>\n",
       "      <td>0.222681</td>\n",
       "      <td>-0.060778</td>\n",
       "      <td>0.123766</td>\n",
       "      <td>-0.050680</td>\n",
       "      <td>-0.066300</td>\n",
       "      <td>0.580388</td>\n",
       "      <td>1.000000</td>\n",
       "    </tr>\n",
       "  </tbody>\n",
       "</table>\n",
       "<p>143 rows × 143 columns</p>\n",
       "</div>"
      ],
      "text/plain": [
       "                  AdrActCnt  AdrBal1in100KCnt  AdrBal1in100MCnt  \\\n",
       "AdrActCnt          1.000000         -0.295957          0.959652   \n",
       "AdrBal1in100KCnt  -0.295957          1.000000         -0.311911   \n",
       "AdrBal1in100MCnt   0.959652         -0.311911          1.000000   \n",
       "AdrBal1in10BCnt    0.932884         -0.254478          0.978567   \n",
       "AdrBal1in10KCnt    0.108487         -0.331607          0.110501   \n",
       "...                     ...               ...               ...   \n",
       "TxTfrValMedNtv    -0.093965          0.098166         -0.100729   \n",
       "TxTfrValMedUSD     0.816682         -0.106880          0.784030   \n",
       "VelCur1yr         -0.101739         -0.328383         -0.133679   \n",
       "VtyDayRet180d     -0.504837         -0.649076         -0.485315   \n",
       "VtyDayRet30d      -0.255180          0.107336         -0.270235   \n",
       "\n",
       "                  AdrBal1in10BCnt  AdrBal1in10KCnt  AdrBal1in10MCnt  \\\n",
       "AdrActCnt                0.932884         0.108487         0.934049   \n",
       "AdrBal1in100KCnt        -0.254478        -0.331607        -0.398082   \n",
       "AdrBal1in100MCnt         0.978567         0.110501         0.964173   \n",
       "AdrBal1in10BCnt          1.000000         0.108065         0.895520   \n",
       "AdrBal1in10KCnt          0.108065         1.000000         0.109859   \n",
       "...                           ...              ...              ...   \n",
       "TxTfrValMedNtv          -0.080340        -0.057074        -0.138490   \n",
       "TxTfrValMedUSD           0.810682         0.357296         0.710752   \n",
       "VelCur1yr               -0.218496         0.058248         0.015809   \n",
       "VtyDayRet180d           -0.405083        -0.421704        -0.584099   \n",
       "VtyDayRet30d            -0.215870        -0.332325        -0.339057   \n",
       "\n",
       "                  AdrBal1in1BCnt  AdrBal1in1KCnt  AdrBal1in1MCnt  AdrBalCnt  \\\n",
       "AdrActCnt               0.945186       -0.154716        0.688873   0.937239   \n",
       "AdrBal1in100KCnt       -0.275746       -0.163269       -0.459963  -0.252451   \n",
       "AdrBal1in100MCnt        0.991210       -0.160749        0.705385   0.973496   \n",
       "AdrBal1in10BCnt         0.996777       -0.190684        0.583663   0.997028   \n",
       "AdrBal1in10KCnt         0.108865       -0.061891        0.036024   0.107419   \n",
       "...                          ...             ...             ...        ...   \n",
       "TxTfrValMedNtv         -0.087445       -0.144013       -0.239874  -0.079789   \n",
       "TxTfrValMedUSD          0.803434       -0.503479        0.451780   0.820305   \n",
       "VelCur1yr              -0.191981        0.237018        0.354171  -0.204888   \n",
       "VtyDayRet180d          -0.432093        0.600602       -0.703672  -0.404610   \n",
       "VtyDayRet30d           -0.233865        0.421768       -0.427777  -0.209397   \n",
       "\n",
       "                  ...  TxTfrCnt  TxTfrValAdjNtv  TxTfrValAdjUSD  \\\n",
       "AdrActCnt         ...  0.969170        0.415725        0.620344   \n",
       "AdrBal1in100KCnt  ... -0.317946       -0.382872       -0.059261   \n",
       "AdrBal1in100MCnt  ...  0.936033        0.342639        0.596460   \n",
       "AdrBal1in10BCnt   ...  0.891673        0.260677        0.683952   \n",
       "AdrBal1in10KCnt   ...  0.110097        0.072873        0.309664   \n",
       "...               ...       ...             ...             ...   \n",
       "TxTfrValMedNtv    ... -0.101216       -0.120343       -0.067188   \n",
       "TxTfrValMedUSD    ...  0.745514        0.126008        0.647192   \n",
       "VelCur1yr         ... -0.056968        0.484088       -0.284704   \n",
       "VtyDayRet180d     ... -0.562346       -0.288359       -0.200798   \n",
       "VtyDayRet30d      ... -0.295434       -0.088756       -0.083683   \n",
       "\n",
       "                  TxTfrValMeanNtv  TxTfrValMeanUSD  TxTfrValMedNtv  \\\n",
       "AdrActCnt               -0.149944         0.471445       -0.093965   \n",
       "AdrBal1in100KCnt         0.196454        -0.053100        0.098166   \n",
       "AdrBal1in100MCnt        -0.158842         0.467595       -0.100729   \n",
       "AdrBal1in10BCnt         -0.128747         0.530808       -0.080340   \n",
       "AdrBal1in10KCnt         -0.113349         0.229333       -0.057074   \n",
       "...                           ...              ...             ...   \n",
       "TxTfrValMedNtv           0.934852        -0.058092        1.000000   \n",
       "TxTfrValMedUSD          -0.211772         0.501146       -0.101490   \n",
       "VelCur1yr               -0.133374        -0.204912       -0.099275   \n",
       "VtyDayRet180d            0.316258        -0.149444        0.518596   \n",
       "VtyDayRet30d             0.222681        -0.060778        0.123766   \n",
       "\n",
       "                  TxTfrValMedUSD  VelCur1yr  VtyDayRet180d  VtyDayRet30d  \n",
       "AdrActCnt               0.816682  -0.101739      -0.504837     -0.255180  \n",
       "AdrBal1in100KCnt       -0.106880  -0.328383      -0.649076      0.107336  \n",
       "AdrBal1in100MCnt        0.784030  -0.133679      -0.485315     -0.270235  \n",
       "AdrBal1in10BCnt         0.810682  -0.218496      -0.405083     -0.215870  \n",
       "AdrBal1in10KCnt         0.357296   0.058248      -0.421704     -0.332325  \n",
       "...                          ...        ...            ...           ...  \n",
       "TxTfrValMedNtv         -0.101490  -0.099275       0.518596      0.123766  \n",
       "TxTfrValMedUSD          1.000000  -0.326634      -0.202220     -0.050680  \n",
       "VelCur1yr              -0.326634   1.000000       0.039563     -0.066300  \n",
       "VtyDayRet180d          -0.202220   0.039563       1.000000      0.580388  \n",
       "VtyDayRet30d           -0.050680  -0.066300       0.580388      1.000000  \n",
       "\n",
       "[143 rows x 143 columns]"
      ]
     },
     "execution_count": 7,
     "metadata": {},
     "output_type": "execute_result"
    }
   ],
   "source": [
    "CorrMatrix"
   ]
  },
  {
   "cell_type": "code",
   "execution_count": 8,
   "metadata": {},
   "outputs": [
    {
     "data": {
      "text/plain": [
       "AdrActCnt           0.678202\n",
       "AdrBal1in100KCnt   -0.068116\n",
       "AdrBal1in100MCnt    0.675125\n",
       "AdrBal1in10BCnt     0.769321\n",
       "AdrBal1in10KCnt     0.378985\n",
       "                      ...   \n",
       "TxTfrValMedNtv     -0.076248\n",
       "TxTfrValMedUSD      0.723620\n",
       "VelCur1yr          -0.347565\n",
       "VtyDayRet180d      -0.215754\n",
       "VtyDayRet30d       -0.100315\n",
       "Name: PriceUSD, Length: 143, dtype: float64"
      ]
     },
     "execution_count": 8,
     "metadata": {},
     "output_type": "execute_result"
    }
   ],
   "source": [
    "CorrMatrix['PriceUSD']"
   ]
  },
  {
   "cell_type": "code",
   "execution_count": 9,
   "metadata": {},
   "outputs": [],
   "source": [
    "CorrMatrix = CorrMatrix[abs(CorrMatrix['PriceUSD'])>= 0.5]"
   ]
  },
  {
   "cell_type": "code",
   "execution_count": 10,
   "metadata": {},
   "outputs": [
    {
     "data": {
      "text/plain": [
       "AdrActCnt             -0.295957\n",
       "AdrBal1in100MCnt      -0.311911\n",
       "AdrBal1in10BCnt       -0.254478\n",
       "AdrBal1in10MCnt       -0.398082\n",
       "AdrBal1in1BCnt        -0.275746\n",
       "                         ...   \n",
       "SplyMiner1HopAllUSD   -0.069581\n",
       "TxTfrCnt              -0.317946\n",
       "TxTfrValAdjUSD        -0.059261\n",
       "TxTfrValMeanUSD       -0.053100\n",
       "TxTfrValMedUSD        -0.106880\n",
       "Name: AdrBal1in100KCnt, Length: 77, dtype: float64"
      ]
     },
     "execution_count": 10,
     "metadata": {},
     "output_type": "execute_result"
    }
   ],
   "source": [
    "CorrMatrix['AdrBal1in100KCnt']"
   ]
  },
  {
   "cell_type": "code",
   "execution_count": 11,
   "metadata": {},
   "outputs": [],
   "source": [
    "for el in CorrMatrix.columns:\n",
    "    if el not in CorrMatrix.index:\n",
    "        del CorrMatrix[el]"
   ]
  },
  {
   "cell_type": "code",
   "execution_count": 12,
   "metadata": {},
   "outputs": [
    {
     "data": {
      "text/html": [
       "<div>\n",
       "<style scoped>\n",
       "    .dataframe tbody tr th:only-of-type {\n",
       "        vertical-align: middle;\n",
       "    }\n",
       "\n",
       "    .dataframe tbody tr th {\n",
       "        vertical-align: top;\n",
       "    }\n",
       "\n",
       "    .dataframe thead th {\n",
       "        text-align: right;\n",
       "    }\n",
       "</style>\n",
       "<table border=\"1\" class=\"dataframe\">\n",
       "  <thead>\n",
       "    <tr style=\"text-align: right;\">\n",
       "      <th></th>\n",
       "      <th>AdrActCnt</th>\n",
       "      <th>AdrBal1in100MCnt</th>\n",
       "      <th>AdrBal1in10BCnt</th>\n",
       "      <th>AdrBal1in10MCnt</th>\n",
       "      <th>AdrBal1in1BCnt</th>\n",
       "      <th>AdrBalCnt</th>\n",
       "      <th>AdrBalNtv0.001Cnt</th>\n",
       "      <th>AdrBalNtv0.01Cnt</th>\n",
       "      <th>AdrBalNtv0.1Cnt</th>\n",
       "      <th>AdrBalNtv1Cnt</th>\n",
       "      <th>...</th>\n",
       "      <th>SplyAdrTop1Pct</th>\n",
       "      <th>SplyCur</th>\n",
       "      <th>SplyExpFut10yr</th>\n",
       "      <th>SplyMiner0HopAllUSD</th>\n",
       "      <th>SplyMiner1HopAllNtv</th>\n",
       "      <th>SplyMiner1HopAllUSD</th>\n",
       "      <th>TxTfrCnt</th>\n",
       "      <th>TxTfrValAdjUSD</th>\n",
       "      <th>TxTfrValMeanUSD</th>\n",
       "      <th>TxTfrValMedUSD</th>\n",
       "    </tr>\n",
       "  </thead>\n",
       "  <tbody>\n",
       "    <tr>\n",
       "      <th>AdrActCnt</th>\n",
       "      <td>1.000000</td>\n",
       "      <td>0.959652</td>\n",
       "      <td>0.932884</td>\n",
       "      <td>0.934049</td>\n",
       "      <td>0.945186</td>\n",
       "      <td>0.937239</td>\n",
       "      <td>0.928103</td>\n",
       "      <td>0.944100</td>\n",
       "      <td>0.953823</td>\n",
       "      <td>0.954784</td>\n",
       "      <td>...</td>\n",
       "      <td>0.900213</td>\n",
       "      <td>0.853412</td>\n",
       "      <td>0.844231</td>\n",
       "      <td>0.679410</td>\n",
       "      <td>-0.022894</td>\n",
       "      <td>0.686367</td>\n",
       "      <td>0.969170</td>\n",
       "      <td>0.620344</td>\n",
       "      <td>0.471445</td>\n",
       "      <td>0.816682</td>\n",
       "    </tr>\n",
       "    <tr>\n",
       "      <th>AdrBal1in100MCnt</th>\n",
       "      <td>0.959652</td>\n",
       "      <td>1.000000</td>\n",
       "      <td>0.978567</td>\n",
       "      <td>0.964173</td>\n",
       "      <td>0.991210</td>\n",
       "      <td>0.973496</td>\n",
       "      <td>0.973594</td>\n",
       "      <td>0.988802</td>\n",
       "      <td>0.997059</td>\n",
       "      <td>0.990053</td>\n",
       "      <td>...</td>\n",
       "      <td>0.927219</td>\n",
       "      <td>0.883889</td>\n",
       "      <td>0.876528</td>\n",
       "      <td>0.676142</td>\n",
       "      <td>-0.009558</td>\n",
       "      <td>0.681569</td>\n",
       "      <td>0.936033</td>\n",
       "      <td>0.596460</td>\n",
       "      <td>0.467595</td>\n",
       "      <td>0.784030</td>\n",
       "    </tr>\n",
       "    <tr>\n",
       "      <th>AdrBal1in10BCnt</th>\n",
       "      <td>0.932884</td>\n",
       "      <td>0.978567</td>\n",
       "      <td>1.000000</td>\n",
       "      <td>0.895520</td>\n",
       "      <td>0.996777</td>\n",
       "      <td>0.997028</td>\n",
       "      <td>0.999592</td>\n",
       "      <td>0.998044</td>\n",
       "      <td>0.991216</td>\n",
       "      <td>0.944343</td>\n",
       "      <td>...</td>\n",
       "      <td>0.850554</td>\n",
       "      <td>0.801699</td>\n",
       "      <td>0.794089</td>\n",
       "      <td>0.770129</td>\n",
       "      <td>-0.077600</td>\n",
       "      <td>0.774616</td>\n",
       "      <td>0.891673</td>\n",
       "      <td>0.683952</td>\n",
       "      <td>0.530808</td>\n",
       "      <td>0.810682</td>\n",
       "    </tr>\n",
       "    <tr>\n",
       "      <th>AdrBal1in10MCnt</th>\n",
       "      <td>0.934049</td>\n",
       "      <td>0.964173</td>\n",
       "      <td>0.895520</td>\n",
       "      <td>1.000000</td>\n",
       "      <td>0.924100</td>\n",
       "      <td>0.890414</td>\n",
       "      <td>0.886737</td>\n",
       "      <td>0.917531</td>\n",
       "      <td>0.943153</td>\n",
       "      <td>0.991264</td>\n",
       "      <td>...</td>\n",
       "      <td>0.987330</td>\n",
       "      <td>0.964654</td>\n",
       "      <td>0.959320</td>\n",
       "      <td>0.556181</td>\n",
       "      <td>0.149604</td>\n",
       "      <td>0.562381</td>\n",
       "      <td>0.935112</td>\n",
       "      <td>0.486358</td>\n",
       "      <td>0.386907</td>\n",
       "      <td>0.710752</td>\n",
       "    </tr>\n",
       "    <tr>\n",
       "      <th>AdrBal1in1BCnt</th>\n",
       "      <td>0.945186</td>\n",
       "      <td>0.991210</td>\n",
       "      <td>0.996777</td>\n",
       "      <td>0.924100</td>\n",
       "      <td>1.000000</td>\n",
       "      <td>0.992123</td>\n",
       "      <td>0.994362</td>\n",
       "      <td>0.999710</td>\n",
       "      <td>0.998192</td>\n",
       "      <td>0.964921</td>\n",
       "      <td>...</td>\n",
       "      <td>0.880494</td>\n",
       "      <td>0.832960</td>\n",
       "      <td>0.825447</td>\n",
       "      <td>0.730715</td>\n",
       "      <td>-0.056711</td>\n",
       "      <td>0.735435</td>\n",
       "      <td>0.911087</td>\n",
       "      <td>0.648442</td>\n",
       "      <td>0.505271</td>\n",
       "      <td>0.803434</td>\n",
       "    </tr>\n",
       "    <tr>\n",
       "      <th>...</th>\n",
       "      <td>...</td>\n",
       "      <td>...</td>\n",
       "      <td>...</td>\n",
       "      <td>...</td>\n",
       "      <td>...</td>\n",
       "      <td>...</td>\n",
       "      <td>...</td>\n",
       "      <td>...</td>\n",
       "      <td>...</td>\n",
       "      <td>...</td>\n",
       "      <td>...</td>\n",
       "      <td>...</td>\n",
       "      <td>...</td>\n",
       "      <td>...</td>\n",
       "      <td>...</td>\n",
       "      <td>...</td>\n",
       "      <td>...</td>\n",
       "      <td>...</td>\n",
       "      <td>...</td>\n",
       "      <td>...</td>\n",
       "      <td>...</td>\n",
       "    </tr>\n",
       "    <tr>\n",
       "      <th>SplyMiner1HopAllUSD</th>\n",
       "      <td>0.686367</td>\n",
       "      <td>0.681569</td>\n",
       "      <td>0.774616</td>\n",
       "      <td>0.562381</td>\n",
       "      <td>0.735435</td>\n",
       "      <td>0.799257</td>\n",
       "      <td>0.789274</td>\n",
       "      <td>0.743690</td>\n",
       "      <td>0.717140</td>\n",
       "      <td>0.631329</td>\n",
       "      <td>...</td>\n",
       "      <td>0.562251</td>\n",
       "      <td>0.549392</td>\n",
       "      <td>0.558272</td>\n",
       "      <td>0.999066</td>\n",
       "      <td>-0.588502</td>\n",
       "      <td>1.000000</td>\n",
       "      <td>0.609830</td>\n",
       "      <td>0.868789</td>\n",
       "      <td>0.649163</td>\n",
       "      <td>0.733426</td>\n",
       "    </tr>\n",
       "    <tr>\n",
       "      <th>TxTfrCnt</th>\n",
       "      <td>0.969170</td>\n",
       "      <td>0.936033</td>\n",
       "      <td>0.891673</td>\n",
       "      <td>0.935112</td>\n",
       "      <td>0.911087</td>\n",
       "      <td>0.892654</td>\n",
       "      <td>0.885235</td>\n",
       "      <td>0.908139</td>\n",
       "      <td>0.924284</td>\n",
       "      <td>0.944372</td>\n",
       "      <td>...</td>\n",
       "      <td>0.910866</td>\n",
       "      <td>0.870070</td>\n",
       "      <td>0.860127</td>\n",
       "      <td>0.603598</td>\n",
       "      <td>0.012713</td>\n",
       "      <td>0.609830</td>\n",
       "      <td>1.000000</td>\n",
       "      <td>0.558256</td>\n",
       "      <td>0.420760</td>\n",
       "      <td>0.745514</td>\n",
       "    </tr>\n",
       "    <tr>\n",
       "      <th>TxTfrValAdjUSD</th>\n",
       "      <td>0.620344</td>\n",
       "      <td>0.596460</td>\n",
       "      <td>0.683952</td>\n",
       "      <td>0.486358</td>\n",
       "      <td>0.648442</td>\n",
       "      <td>0.714152</td>\n",
       "      <td>0.698508</td>\n",
       "      <td>0.656610</td>\n",
       "      <td>0.630066</td>\n",
       "      <td>0.549050</td>\n",
       "      <td>...</td>\n",
       "      <td>0.491936</td>\n",
       "      <td>0.479702</td>\n",
       "      <td>0.488847</td>\n",
       "      <td>0.877683</td>\n",
       "      <td>-0.550310</td>\n",
       "      <td>0.868789</td>\n",
       "      <td>0.558256</td>\n",
       "      <td>1.000000</td>\n",
       "      <td>0.767116</td>\n",
       "      <td>0.647192</td>\n",
       "    </tr>\n",
       "    <tr>\n",
       "      <th>TxTfrValMeanUSD</th>\n",
       "      <td>0.471445</td>\n",
       "      <td>0.467595</td>\n",
       "      <td>0.530808</td>\n",
       "      <td>0.386907</td>\n",
       "      <td>0.505271</td>\n",
       "      <td>0.557788</td>\n",
       "      <td>0.542399</td>\n",
       "      <td>0.511016</td>\n",
       "      <td>0.491325</td>\n",
       "      <td>0.432518</td>\n",
       "      <td>...</td>\n",
       "      <td>0.393160</td>\n",
       "      <td>0.382940</td>\n",
       "      <td>0.390821</td>\n",
       "      <td>0.657858</td>\n",
       "      <td>-0.442379</td>\n",
       "      <td>0.649163</td>\n",
       "      <td>0.420760</td>\n",
       "      <td>0.767116</td>\n",
       "      <td>1.000000</td>\n",
       "      <td>0.501146</td>\n",
       "    </tr>\n",
       "    <tr>\n",
       "      <th>TxTfrValMedUSD</th>\n",
       "      <td>0.816682</td>\n",
       "      <td>0.784030</td>\n",
       "      <td>0.810682</td>\n",
       "      <td>0.710752</td>\n",
       "      <td>0.803434</td>\n",
       "      <td>0.820305</td>\n",
       "      <td>0.809508</td>\n",
       "      <td>0.803795</td>\n",
       "      <td>0.792793</td>\n",
       "      <td>0.748197</td>\n",
       "      <td>...</td>\n",
       "      <td>0.674160</td>\n",
       "      <td>0.650030</td>\n",
       "      <td>0.660591</td>\n",
       "      <td>0.724671</td>\n",
       "      <td>-0.675842</td>\n",
       "      <td>0.733426</td>\n",
       "      <td>0.745514</td>\n",
       "      <td>0.647192</td>\n",
       "      <td>0.501146</td>\n",
       "      <td>1.000000</td>\n",
       "    </tr>\n",
       "  </tbody>\n",
       "</table>\n",
       "<p>77 rows × 77 columns</p>\n",
       "</div>"
      ],
      "text/plain": [
       "                     AdrActCnt  AdrBal1in100MCnt  AdrBal1in10BCnt  \\\n",
       "AdrActCnt             1.000000          0.959652         0.932884   \n",
       "AdrBal1in100MCnt      0.959652          1.000000         0.978567   \n",
       "AdrBal1in10BCnt       0.932884          0.978567         1.000000   \n",
       "AdrBal1in10MCnt       0.934049          0.964173         0.895520   \n",
       "AdrBal1in1BCnt        0.945186          0.991210         0.996777   \n",
       "...                        ...               ...              ...   \n",
       "SplyMiner1HopAllUSD   0.686367          0.681569         0.774616   \n",
       "TxTfrCnt              0.969170          0.936033         0.891673   \n",
       "TxTfrValAdjUSD        0.620344          0.596460         0.683952   \n",
       "TxTfrValMeanUSD       0.471445          0.467595         0.530808   \n",
       "TxTfrValMedUSD        0.816682          0.784030         0.810682   \n",
       "\n",
       "                     AdrBal1in10MCnt  AdrBal1in1BCnt  AdrBalCnt  \\\n",
       "AdrActCnt                   0.934049        0.945186   0.937239   \n",
       "AdrBal1in100MCnt            0.964173        0.991210   0.973496   \n",
       "AdrBal1in10BCnt             0.895520        0.996777   0.997028   \n",
       "AdrBal1in10MCnt             1.000000        0.924100   0.890414   \n",
       "AdrBal1in1BCnt              0.924100        1.000000   0.992123   \n",
       "...                              ...             ...        ...   \n",
       "SplyMiner1HopAllUSD         0.562381        0.735435   0.799257   \n",
       "TxTfrCnt                    0.935112        0.911087   0.892654   \n",
       "TxTfrValAdjUSD              0.486358        0.648442   0.714152   \n",
       "TxTfrValMeanUSD             0.386907        0.505271   0.557788   \n",
       "TxTfrValMedUSD              0.710752        0.803434   0.820305   \n",
       "\n",
       "                     AdrBalNtv0.001Cnt  AdrBalNtv0.01Cnt  AdrBalNtv0.1Cnt  \\\n",
       "AdrActCnt                     0.928103          0.944100         0.953823   \n",
       "AdrBal1in100MCnt              0.973594          0.988802         0.997059   \n",
       "AdrBal1in10BCnt               0.999592          0.998044         0.991216   \n",
       "AdrBal1in10MCnt               0.886737          0.917531         0.943153   \n",
       "AdrBal1in1BCnt                0.994362          0.999710         0.998192   \n",
       "...                                ...               ...              ...   \n",
       "SplyMiner1HopAllUSD           0.789274          0.743690         0.717140   \n",
       "TxTfrCnt                      0.885235          0.908139         0.924284   \n",
       "TxTfrValAdjUSD                0.698508          0.656610         0.630066   \n",
       "TxTfrValMeanUSD               0.542399          0.511016         0.491325   \n",
       "TxTfrValMedUSD                0.809508          0.803795         0.792793   \n",
       "\n",
       "                     AdrBalNtv1Cnt  ...  SplyAdrTop1Pct   SplyCur  \\\n",
       "AdrActCnt                 0.954784  ...        0.900213  0.853412   \n",
       "AdrBal1in100MCnt          0.990053  ...        0.927219  0.883889   \n",
       "AdrBal1in10BCnt           0.944343  ...        0.850554  0.801699   \n",
       "AdrBal1in10MCnt           0.991264  ...        0.987330  0.964654   \n",
       "AdrBal1in1BCnt            0.964921  ...        0.880494  0.832960   \n",
       "...                            ...  ...             ...       ...   \n",
       "SplyMiner1HopAllUSD       0.631329  ...        0.562251  0.549392   \n",
       "TxTfrCnt                  0.944372  ...        0.910866  0.870070   \n",
       "TxTfrValAdjUSD            0.549050  ...        0.491936  0.479702   \n",
       "TxTfrValMeanUSD           0.432518  ...        0.393160  0.382940   \n",
       "TxTfrValMedUSD            0.748197  ...        0.674160  0.650030   \n",
       "\n",
       "                     SplyExpFut10yr  SplyMiner0HopAllUSD  SplyMiner1HopAllNtv  \\\n",
       "AdrActCnt                  0.844231             0.679410            -0.022894   \n",
       "AdrBal1in100MCnt           0.876528             0.676142            -0.009558   \n",
       "AdrBal1in10BCnt            0.794089             0.770129            -0.077600   \n",
       "AdrBal1in10MCnt            0.959320             0.556181             0.149604   \n",
       "AdrBal1in1BCnt             0.825447             0.730715            -0.056711   \n",
       "...                             ...                  ...                  ...   \n",
       "SplyMiner1HopAllUSD        0.558272             0.999066            -0.588502   \n",
       "TxTfrCnt                   0.860127             0.603598             0.012713   \n",
       "TxTfrValAdjUSD             0.488847             0.877683            -0.550310   \n",
       "TxTfrValMeanUSD            0.390821             0.657858            -0.442379   \n",
       "TxTfrValMedUSD             0.660591             0.724671            -0.675842   \n",
       "\n",
       "                     SplyMiner1HopAllUSD  TxTfrCnt  TxTfrValAdjUSD  \\\n",
       "AdrActCnt                       0.686367  0.969170        0.620344   \n",
       "AdrBal1in100MCnt                0.681569  0.936033        0.596460   \n",
       "AdrBal1in10BCnt                 0.774616  0.891673        0.683952   \n",
       "AdrBal1in10MCnt                 0.562381  0.935112        0.486358   \n",
       "AdrBal1in1BCnt                  0.735435  0.911087        0.648442   \n",
       "...                                  ...       ...             ...   \n",
       "SplyMiner1HopAllUSD             1.000000  0.609830        0.868789   \n",
       "TxTfrCnt                        0.609830  1.000000        0.558256   \n",
       "TxTfrValAdjUSD                  0.868789  0.558256        1.000000   \n",
       "TxTfrValMeanUSD                 0.649163  0.420760        0.767116   \n",
       "TxTfrValMedUSD                  0.733426  0.745514        0.647192   \n",
       "\n",
       "                     TxTfrValMeanUSD  TxTfrValMedUSD  \n",
       "AdrActCnt                   0.471445        0.816682  \n",
       "AdrBal1in100MCnt            0.467595        0.784030  \n",
       "AdrBal1in10BCnt             0.530808        0.810682  \n",
       "AdrBal1in10MCnt             0.386907        0.710752  \n",
       "AdrBal1in1BCnt              0.505271        0.803434  \n",
       "...                              ...             ...  \n",
       "SplyMiner1HopAllUSD         0.649163        0.733426  \n",
       "TxTfrCnt                    0.420760        0.745514  \n",
       "TxTfrValAdjUSD              0.767116        0.647192  \n",
       "TxTfrValMeanUSD             1.000000        0.501146  \n",
       "TxTfrValMedUSD              0.501146        1.000000  \n",
       "\n",
       "[77 rows x 77 columns]"
      ]
     },
     "execution_count": 12,
     "metadata": {},
     "output_type": "execute_result"
    }
   ],
   "source": [
    "CorrMatrix"
   ]
  },
  {
   "cell_type": "code",
   "execution_count": 13,
   "metadata": {},
   "outputs": [
    {
     "data": {
      "text/plain": [
       "AdrActCnt              0.678202\n",
       "AdrBal1in100MCnt       0.675125\n",
       "AdrBal1in10BCnt        0.769321\n",
       "AdrBal1in10MCnt        0.555003\n",
       "AdrBal1in1BCnt         0.729836\n",
       "                         ...   \n",
       "SplyMiner1HopAllUSD    0.999164\n",
       "TxTfrCnt               0.602541\n",
       "TxTfrValAdjUSD         0.877199\n",
       "TxTfrValMeanUSD        0.657217\n",
       "TxTfrValMedUSD         0.723620\n",
       "Name: PriceUSD, Length: 77, dtype: float64"
      ]
     },
     "execution_count": 13,
     "metadata": {},
     "output_type": "execute_result"
    }
   ],
   "source": [
    "CorrMatrix['PriceUSD']"
   ]
  },
  {
   "cell_type": "code",
   "execution_count": 14,
   "metadata": {},
   "outputs": [],
   "source": [
    "correlated_features = dict()\n",
    "for feat1 in CorrMatrix.columns:\n",
    "    if feat1 != \"PriceUSD\": \n",
    "        correlated_features[feat1] = []\n",
    "        for feat2 in CorrMatrix.columns:\n",
    "            if abs(CorrMatrix[feat1][feat2]) > 0.9 and feat1 != feat2:\n",
    "                if feat1 != \"PriceUSD\" and feat2 != \"PriceUSD\":\n",
    "                    correlated_features[feat1].append(feat2)"
   ]
  },
  {
   "cell_type": "code",
   "execution_count": 15,
   "metadata": {},
   "outputs": [],
   "source": [
    "highlyCorrelated = list()\n",
    "corSet = set()\n",
    "for column in correlated_features.keys():\n",
    "    maxCor = 0\n",
    "    bestCor = None\n",
    "    for el in correlated_features[column] + [column]:\n",
    "        if abs(CorrMatrix['PriceUSD'][el]) > maxCor:\n",
    "            maxCor = abs(CorrMatrix['PriceUSD'][el])\n",
    "            bestCor = el\n",
    "            \n",
    "    highlyCorrelated.append(bestCor)\n",
    "    corSet.add(bestCor)"
   ]
  },
  {
   "cell_type": "code",
   "execution_count": 16,
   "metadata": {},
   "outputs": [
    {
     "data": {
      "text/plain": [
       "20"
      ]
     },
     "execution_count": 16,
     "metadata": {},
     "output_type": "execute_result"
    }
   ],
   "source": [
    "len(list(corSet))"
   ]
  },
  {
   "cell_type": "code",
   "execution_count": 17,
   "metadata": {},
   "outputs": [
    {
     "name": "stdout",
     "output_type": "stream",
     "text": [
      "AdrBalCnt 0.7950820297103433\n",
      "AdrBalNtv0.01Cnt 0.7381903889819359\n",
      "AdrBalUSD10Cnt 0.895705238265752\n",
      "FlowInExUSD 0.8442750392180502\n",
      "AdrBal1in100MCnt 0.675125141724985\n",
      "AssetEODCompletionTime 0.7089935032350656\n",
      "TxTfrValMedUSD 0.7236200709974796\n",
      "AdrBalUSD10MCnt 0.9973885100010248\n",
      "SplyMiner0HopAllUSD 0.9999860941622307\n",
      "TxTfrValMeanUSD 0.6572171551462382\n",
      "FeeMeanUSD 0.5175432443311527\n",
      "SplyAdrBalUSD10K 0.549062470115893\n",
      "TxTfrValAdjUSD 0.8771991625686137\n",
      "AdrBalUSD100Cnt 0.9355593452810728\n",
      "SplyAdrBalUSD10M 0.8379066818868521\n",
      "AdrBalUSD10KCnt 0.9821744354688466\n",
      "SplyMiner1HopAllNtv -0.5902008967764314\n",
      "AdrBalUSD1KCnt 0.9566186788363377\n",
      "SplyAdrBalUSD1M 0.7867901509504597\n",
      "SplyAdrBalUSD100K 0.6487983019587369\n"
     ]
    }
   ],
   "source": [
    "for el in list(corSet):\n",
    "    print(el + \" \" + str(CorrMatrix['PriceUSD'][el]))"
   ]
  },
  {
   "cell_type": "code",
   "execution_count": null,
   "metadata": {},
   "outputs": [],
   "source": []
  },
  {
   "cell_type": "code",
   "execution_count": 18,
   "metadata": {},
   "outputs": [],
   "source": [
    "#\"\"\"\"\"\"\"\"\"\"\"\"\"\"\"\"\"\"\"\"\"\"\"\"\"\"\"\"\"\"\"\"\"\"\"\"\"\"\"\"\"\"\"\"\"\"\""
   ]
  },
  {
   "cell_type": "code",
   "execution_count": 19,
   "metadata": {},
   "outputs": [],
   "source": [
    "btc = btc[btc['PriceUSD'].isna() == False]"
   ]
  },
  {
   "cell_type": "code",
   "execution_count": 20,
   "metadata": {},
   "outputs": [
    {
     "data": {
      "text/html": [
       "<div>\n",
       "<style scoped>\n",
       "    .dataframe tbody tr th:only-of-type {\n",
       "        vertical-align: middle;\n",
       "    }\n",
       "\n",
       "    .dataframe tbody tr th {\n",
       "        vertical-align: top;\n",
       "    }\n",
       "\n",
       "    .dataframe thead th {\n",
       "        text-align: right;\n",
       "    }\n",
       "</style>\n",
       "<table border=\"1\" class=\"dataframe\">\n",
       "  <thead>\n",
       "    <tr style=\"text-align: right;\">\n",
       "      <th></th>\n",
       "      <th>time</th>\n",
       "      <th>AdrActCnt</th>\n",
       "      <th>AdrBal1in100KCnt</th>\n",
       "      <th>AdrBal1in100MCnt</th>\n",
       "      <th>AdrBal1in10BCnt</th>\n",
       "      <th>AdrBal1in10KCnt</th>\n",
       "      <th>AdrBal1in10MCnt</th>\n",
       "      <th>AdrBal1in1BCnt</th>\n",
       "      <th>AdrBal1in1KCnt</th>\n",
       "      <th>AdrBal1in1MCnt</th>\n",
       "      <th>...</th>\n",
       "      <th>TxTfrCnt</th>\n",
       "      <th>TxTfrValAdjNtv</th>\n",
       "      <th>TxTfrValAdjUSD</th>\n",
       "      <th>TxTfrValMeanNtv</th>\n",
       "      <th>TxTfrValMeanUSD</th>\n",
       "      <th>TxTfrValMedNtv</th>\n",
       "      <th>TxTfrValMedUSD</th>\n",
       "      <th>VelCur1yr</th>\n",
       "      <th>VtyDayRet180d</th>\n",
       "      <th>VtyDayRet30d</th>\n",
       "    </tr>\n",
       "  </thead>\n",
       "  <tbody>\n",
       "    <tr>\n",
       "      <th>555</th>\n",
       "      <td>2010-07-18</td>\n",
       "      <td>860.0</td>\n",
       "      <td>49287.0</td>\n",
       "      <td>52093.0</td>\n",
       "      <td>52190.0</td>\n",
       "      <td>199.0</td>\n",
       "      <td>51245.0</td>\n",
       "      <td>52190.0</td>\n",
       "      <td>54.0</td>\n",
       "      <td>51064.0</td>\n",
       "      <td>...</td>\n",
       "      <td>396.0</td>\n",
       "      <td>17180.55</td>\n",
       "      <td>1474.778412</td>\n",
       "      <td>48.783737</td>\n",
       "      <td>4.187596</td>\n",
       "      <td>1.850</td>\n",
       "      <td>0.158804</td>\n",
       "      <td>1.820565</td>\n",
       "      <td>NaN</td>\n",
       "      <td>NaN</td>\n",
       "    </tr>\n",
       "    <tr>\n",
       "      <th>556</th>\n",
       "      <td>2010-07-19</td>\n",
       "      <td>929.0</td>\n",
       "      <td>49297.0</td>\n",
       "      <td>52208.0</td>\n",
       "      <td>52311.0</td>\n",
       "      <td>207.0</td>\n",
       "      <td>51276.0</td>\n",
       "      <td>52311.0</td>\n",
       "      <td>54.0</td>\n",
       "      <td>51085.0</td>\n",
       "      <td>...</td>\n",
       "      <td>512.0</td>\n",
       "      <td>40243.73</td>\n",
       "      <td>3251.693384</td>\n",
       "      <td>86.951152</td>\n",
       "      <td>7.025653</td>\n",
       "      <td>2.625</td>\n",
       "      <td>0.212100</td>\n",
       "      <td>1.828863</td>\n",
       "      <td>NaN</td>\n",
       "      <td>NaN</td>\n",
       "    </tr>\n",
       "    <tr>\n",
       "      <th>557</th>\n",
       "      <td>2010-07-20</td>\n",
       "      <td>936.0</td>\n",
       "      <td>49367.0</td>\n",
       "      <td>52344.0</td>\n",
       "      <td>52456.0</td>\n",
       "      <td>213.0</td>\n",
       "      <td>51353.0</td>\n",
       "      <td>52456.0</td>\n",
       "      <td>54.0</td>\n",
       "      <td>51157.0</td>\n",
       "      <td>...</td>\n",
       "      <td>738.0</td>\n",
       "      <td>16063.23</td>\n",
       "      <td>1200.497201</td>\n",
       "      <td>42.528835</td>\n",
       "      <td>3.178423</td>\n",
       "      <td>1.375</td>\n",
       "      <td>0.102762</td>\n",
       "      <td>1.831412</td>\n",
       "      <td>NaN</td>\n",
       "      <td>NaN</td>\n",
       "    </tr>\n",
       "    <tr>\n",
       "      <th>558</th>\n",
       "      <td>2010-07-21</td>\n",
       "      <td>784.0</td>\n",
       "      <td>49382.0</td>\n",
       "      <td>52397.0</td>\n",
       "      <td>52521.0</td>\n",
       "      <td>220.0</td>\n",
       "      <td>51380.0</td>\n",
       "      <td>52521.0</td>\n",
       "      <td>54.0</td>\n",
       "      <td>51179.0</td>\n",
       "      <td>...</td>\n",
       "      <td>377.0</td>\n",
       "      <td>20834.15</td>\n",
       "      <td>1649.915979</td>\n",
       "      <td>71.822334</td>\n",
       "      <td>5.687816</td>\n",
       "      <td>18.500</td>\n",
       "      <td>1.465068</td>\n",
       "      <td>1.833749</td>\n",
       "      <td>NaN</td>\n",
       "      <td>NaN</td>\n",
       "    </tr>\n",
       "    <tr>\n",
       "      <th>559</th>\n",
       "      <td>2010-07-22</td>\n",
       "      <td>594.0</td>\n",
       "      <td>49504.0</td>\n",
       "      <td>52577.0</td>\n",
       "      <td>52715.0</td>\n",
       "      <td>222.0</td>\n",
       "      <td>51508.0</td>\n",
       "      <td>52715.0</td>\n",
       "      <td>57.0</td>\n",
       "      <td>51304.0</td>\n",
       "      <td>...</td>\n",
       "      <td>344.0</td>\n",
       "      <td>33049.03</td>\n",
       "      <td>1932.368865</td>\n",
       "      <td>112.714622</td>\n",
       "      <td>6.590397</td>\n",
       "      <td>1.010</td>\n",
       "      <td>0.059054</td>\n",
       "      <td>1.840245</td>\n",
       "      <td>NaN</td>\n",
       "      <td>NaN</td>\n",
       "    </tr>\n",
       "  </tbody>\n",
       "</table>\n",
       "<p>5 rows × 144 columns</p>\n",
       "</div>"
      ],
      "text/plain": [
       "           time  AdrActCnt  AdrBal1in100KCnt  AdrBal1in100MCnt  \\\n",
       "555  2010-07-18      860.0           49287.0           52093.0   \n",
       "556  2010-07-19      929.0           49297.0           52208.0   \n",
       "557  2010-07-20      936.0           49367.0           52344.0   \n",
       "558  2010-07-21      784.0           49382.0           52397.0   \n",
       "559  2010-07-22      594.0           49504.0           52577.0   \n",
       "\n",
       "     AdrBal1in10BCnt  AdrBal1in10KCnt  AdrBal1in10MCnt  AdrBal1in1BCnt  \\\n",
       "555          52190.0            199.0          51245.0         52190.0   \n",
       "556          52311.0            207.0          51276.0         52311.0   \n",
       "557          52456.0            213.0          51353.0         52456.0   \n",
       "558          52521.0            220.0          51380.0         52521.0   \n",
       "559          52715.0            222.0          51508.0         52715.0   \n",
       "\n",
       "     AdrBal1in1KCnt  AdrBal1in1MCnt  ...  TxTfrCnt  TxTfrValAdjNtv  \\\n",
       "555            54.0         51064.0  ...     396.0        17180.55   \n",
       "556            54.0         51085.0  ...     512.0        40243.73   \n",
       "557            54.0         51157.0  ...     738.0        16063.23   \n",
       "558            54.0         51179.0  ...     377.0        20834.15   \n",
       "559            57.0         51304.0  ...     344.0        33049.03   \n",
       "\n",
       "     TxTfrValAdjUSD  TxTfrValMeanNtv  TxTfrValMeanUSD  TxTfrValMedNtv  \\\n",
       "555     1474.778412        48.783737         4.187596           1.850   \n",
       "556     3251.693384        86.951152         7.025653           2.625   \n",
       "557     1200.497201        42.528835         3.178423           1.375   \n",
       "558     1649.915979        71.822334         5.687816          18.500   \n",
       "559     1932.368865       112.714622         6.590397           1.010   \n",
       "\n",
       "     TxTfrValMedUSD  VelCur1yr  VtyDayRet180d  VtyDayRet30d  \n",
       "555        0.158804   1.820565            NaN           NaN  \n",
       "556        0.212100   1.828863            NaN           NaN  \n",
       "557        0.102762   1.831412            NaN           NaN  \n",
       "558        1.465068   1.833749            NaN           NaN  \n",
       "559        0.059054   1.840245            NaN           NaN  \n",
       "\n",
       "[5 rows x 144 columns]"
      ]
     },
     "execution_count": 20,
     "metadata": {},
     "output_type": "execute_result"
    }
   ],
   "source": [
    "btc.head()"
   ]
  },
  {
   "cell_type": "code",
   "execution_count": 21,
   "metadata": {},
   "outputs": [
    {
     "data": {
      "text/html": [
       "<div>\n",
       "<style scoped>\n",
       "    .dataframe tbody tr th:only-of-type {\n",
       "        vertical-align: middle;\n",
       "    }\n",
       "\n",
       "    .dataframe tbody tr th {\n",
       "        vertical-align: top;\n",
       "    }\n",
       "\n",
       "    .dataframe thead th {\n",
       "        text-align: right;\n",
       "    }\n",
       "</style>\n",
       "<table border=\"1\" class=\"dataframe\">\n",
       "  <thead>\n",
       "    <tr style=\"text-align: right;\">\n",
       "      <th></th>\n",
       "      <th>time</th>\n",
       "      <th>PriceUSD</th>\n",
       "    </tr>\n",
       "  </thead>\n",
       "  <tbody>\n",
       "    <tr>\n",
       "      <th>555</th>\n",
       "      <td>2010-07-18</td>\n",
       "      <td>0.085840</td>\n",
       "    </tr>\n",
       "    <tr>\n",
       "      <th>556</th>\n",
       "      <td>2010-07-19</td>\n",
       "      <td>0.080800</td>\n",
       "    </tr>\n",
       "    <tr>\n",
       "      <th>557</th>\n",
       "      <td>2010-07-20</td>\n",
       "      <td>0.074736</td>\n",
       "    </tr>\n",
       "    <tr>\n",
       "      <th>558</th>\n",
       "      <td>2010-07-21</td>\n",
       "      <td>0.079193</td>\n",
       "    </tr>\n",
       "    <tr>\n",
       "      <th>559</th>\n",
       "      <td>2010-07-22</td>\n",
       "      <td>0.058470</td>\n",
       "    </tr>\n",
       "  </tbody>\n",
       "</table>\n",
       "</div>"
      ],
      "text/plain": [
       "           time  PriceUSD\n",
       "555  2010-07-18  0.085840\n",
       "556  2010-07-19  0.080800\n",
       "557  2010-07-20  0.074736\n",
       "558  2010-07-21  0.079193\n",
       "559  2010-07-22  0.058470"
      ]
     },
     "execution_count": 21,
     "metadata": {},
     "output_type": "execute_result"
    }
   ],
   "source": [
    "btc[['time', 'PriceUSD']].head()"
   ]
  },
  {
   "cell_type": "code",
   "execution_count": 22,
   "metadata": {},
   "outputs": [],
   "source": [
    "btc['PriceUSD'] = btc.PriceUSD.shift(-1) # shift price for 1 day\n",
    "btc = btc[:-1] # remove the last row"
   ]
  },
  {
   "cell_type": "code",
   "execution_count": 23,
   "metadata": {},
   "outputs": [
    {
     "data": {
      "text/html": [
       "<div>\n",
       "<style scoped>\n",
       "    .dataframe tbody tr th:only-of-type {\n",
       "        vertical-align: middle;\n",
       "    }\n",
       "\n",
       "    .dataframe tbody tr th {\n",
       "        vertical-align: top;\n",
       "    }\n",
       "\n",
       "    .dataframe thead th {\n",
       "        text-align: right;\n",
       "    }\n",
       "</style>\n",
       "<table border=\"1\" class=\"dataframe\">\n",
       "  <thead>\n",
       "    <tr style=\"text-align: right;\">\n",
       "      <th></th>\n",
       "      <th>time</th>\n",
       "      <th>PriceUSD</th>\n",
       "    </tr>\n",
       "  </thead>\n",
       "  <tbody>\n",
       "    <tr>\n",
       "      <th>555</th>\n",
       "      <td>2010-07-18</td>\n",
       "      <td>0.080800</td>\n",
       "    </tr>\n",
       "    <tr>\n",
       "      <th>556</th>\n",
       "      <td>2010-07-19</td>\n",
       "      <td>0.074736</td>\n",
       "    </tr>\n",
       "    <tr>\n",
       "      <th>557</th>\n",
       "      <td>2010-07-20</td>\n",
       "      <td>0.079193</td>\n",
       "    </tr>\n",
       "    <tr>\n",
       "      <th>558</th>\n",
       "      <td>2010-07-21</td>\n",
       "      <td>0.058470</td>\n",
       "    </tr>\n",
       "    <tr>\n",
       "      <th>559</th>\n",
       "      <td>2010-07-22</td>\n",
       "      <td>0.060593</td>\n",
       "    </tr>\n",
       "  </tbody>\n",
       "</table>\n",
       "</div>"
      ],
      "text/plain": [
       "           time  PriceUSD\n",
       "555  2010-07-18  0.080800\n",
       "556  2010-07-19  0.074736\n",
       "557  2010-07-20  0.079193\n",
       "558  2010-07-21  0.058470\n",
       "559  2010-07-22  0.060593"
      ]
     },
     "execution_count": 23,
     "metadata": {},
     "output_type": "execute_result"
    }
   ],
   "source": [
    "btc[['time', 'PriceUSD']].head()"
   ]
  },
  {
   "cell_type": "markdown",
   "metadata": {},
   "source": [
    "# Preprocessing part"
   ]
  },
  {
   "cell_type": "code",
   "execution_count": 24,
   "metadata": {},
   "outputs": [],
   "source": [
    "from sklearn.linear_model import LinearRegression"
   ]
  },
  {
   "cell_type": "code",
   "execution_count": 25,
   "metadata": {},
   "outputs": [],
   "source": [
    "X = btc[list(corSet)]\n",
    "y = btc.PriceUSD"
   ]
  },
  {
   "cell_type": "code",
   "execution_count": 26,
   "metadata": {},
   "outputs": [
    {
     "data": {
      "text/html": [
       "<div>\n",
       "<style scoped>\n",
       "    .dataframe tbody tr th:only-of-type {\n",
       "        vertical-align: middle;\n",
       "    }\n",
       "\n",
       "    .dataframe tbody tr th {\n",
       "        vertical-align: top;\n",
       "    }\n",
       "\n",
       "    .dataframe thead th {\n",
       "        text-align: right;\n",
       "    }\n",
       "</style>\n",
       "<table border=\"1\" class=\"dataframe\">\n",
       "  <thead>\n",
       "    <tr style=\"text-align: right;\">\n",
       "      <th></th>\n",
       "      <th>AdrBalCnt</th>\n",
       "      <th>AdrBalNtv0.01Cnt</th>\n",
       "      <th>AdrBalUSD10Cnt</th>\n",
       "      <th>FlowInExUSD</th>\n",
       "      <th>AdrBal1in100MCnt</th>\n",
       "      <th>AssetEODCompletionTime</th>\n",
       "      <th>TxTfrValMedUSD</th>\n",
       "      <th>AdrBalUSD10MCnt</th>\n",
       "      <th>SplyMiner0HopAllUSD</th>\n",
       "      <th>TxTfrValMeanUSD</th>\n",
       "      <th>FeeMeanUSD</th>\n",
       "      <th>SplyAdrBalUSD10K</th>\n",
       "      <th>TxTfrValAdjUSD</th>\n",
       "      <th>AdrBalUSD100Cnt</th>\n",
       "      <th>SplyAdrBalUSD10M</th>\n",
       "      <th>AdrBalUSD10KCnt</th>\n",
       "      <th>SplyMiner1HopAllNtv</th>\n",
       "      <th>AdrBalUSD1KCnt</th>\n",
       "      <th>SplyAdrBalUSD1M</th>\n",
       "      <th>SplyAdrBalUSD100K</th>\n",
       "    </tr>\n",
       "  </thead>\n",
       "  <tbody>\n",
       "    <tr>\n",
       "      <th>555</th>\n",
       "      <td>52190.0</td>\n",
       "      <td>52190.0</td>\n",
       "      <td>382.0</td>\n",
       "      <td>0.0</td>\n",
       "      <td>52093.0</td>\n",
       "      <td>1.614335e+09</td>\n",
       "      <td>0.158804</td>\n",
       "      <td>0.0</td>\n",
       "      <td>204478.223612</td>\n",
       "      <td>4.187596</td>\n",
       "      <td>0.000273</td>\n",
       "      <td>0.0</td>\n",
       "      <td>1474.778412</td>\n",
       "      <td>102.0</td>\n",
       "      <td>0.0</td>\n",
       "      <td>0.0</td>\n",
       "      <td>3119011.46</td>\n",
       "      <td>18.0</td>\n",
       "      <td>0.0</td>\n",
       "      <td>0.0</td>\n",
       "    </tr>\n",
       "    <tr>\n",
       "      <th>556</th>\n",
       "      <td>52311.0</td>\n",
       "      <td>52311.0</td>\n",
       "      <td>400.0</td>\n",
       "      <td>0.0</td>\n",
       "      <td>52208.0</td>\n",
       "      <td>1.614335e+09</td>\n",
       "      <td>0.212100</td>\n",
       "      <td>0.0</td>\n",
       "      <td>192335.135472</td>\n",
       "      <td>7.025653</td>\n",
       "      <td>0.000012</td>\n",
       "      <td>0.0</td>\n",
       "      <td>3251.693384</td>\n",
       "      <td>103.0</td>\n",
       "      <td>0.0</td>\n",
       "      <td>0.0</td>\n",
       "      <td>3124984.49</td>\n",
       "      <td>19.0</td>\n",
       "      <td>0.0</td>\n",
       "      <td>0.0</td>\n",
       "    </tr>\n",
       "    <tr>\n",
       "      <th>557</th>\n",
       "      <td>52456.0</td>\n",
       "      <td>52456.0</td>\n",
       "      <td>412.0</td>\n",
       "      <td>0.0</td>\n",
       "      <td>52344.0</td>\n",
       "      <td>1.614335e+09</td>\n",
       "      <td>0.102762</td>\n",
       "      <td>0.0</td>\n",
       "      <td>178090.401130</td>\n",
       "      <td>3.178423</td>\n",
       "      <td>0.000000</td>\n",
       "      <td>0.0</td>\n",
       "      <td>1200.497201</td>\n",
       "      <td>101.0</td>\n",
       "      <td>0.0</td>\n",
       "      <td>0.0</td>\n",
       "      <td>3132645.14</td>\n",
       "      <td>17.0</td>\n",
       "      <td>0.0</td>\n",
       "      <td>0.0</td>\n",
       "    </tr>\n",
       "    <tr>\n",
       "      <th>558</th>\n",
       "      <td>52521.0</td>\n",
       "      <td>52521.0</td>\n",
       "      <td>430.0</td>\n",
       "      <td>0.0</td>\n",
       "      <td>52397.0</td>\n",
       "      <td>1.614335e+09</td>\n",
       "      <td>1.465068</td>\n",
       "      <td>0.0</td>\n",
       "      <td>188679.781277</td>\n",
       "      <td>5.687816</td>\n",
       "      <td>0.000000</td>\n",
       "      <td>0.0</td>\n",
       "      <td>1649.915979</td>\n",
       "      <td>104.0</td>\n",
       "      <td>0.0</td>\n",
       "      <td>0.0</td>\n",
       "      <td>3139232.45</td>\n",
       "      <td>18.0</td>\n",
       "      <td>0.0</td>\n",
       "      <td>0.0</td>\n",
       "    </tr>\n",
       "    <tr>\n",
       "      <th>559</th>\n",
       "      <td>52715.0</td>\n",
       "      <td>52715.0</td>\n",
       "      <td>356.0</td>\n",
       "      <td>0.0</td>\n",
       "      <td>52577.0</td>\n",
       "      <td>1.614335e+09</td>\n",
       "      <td>0.059054</td>\n",
       "      <td>0.0</td>\n",
       "      <td>139621.996594</td>\n",
       "      <td>6.590397</td>\n",
       "      <td>0.000000</td>\n",
       "      <td>0.0</td>\n",
       "      <td>1932.368865</td>\n",
       "      <td>90.0</td>\n",
       "      <td>0.0</td>\n",
       "      <td>0.0</td>\n",
       "      <td>3143642.45</td>\n",
       "      <td>14.0</td>\n",
       "      <td>0.0</td>\n",
       "      <td>0.0</td>\n",
       "    </tr>\n",
       "  </tbody>\n",
       "</table>\n",
       "</div>"
      ],
      "text/plain": [
       "     AdrBalCnt  AdrBalNtv0.01Cnt  AdrBalUSD10Cnt  FlowInExUSD  \\\n",
       "555    52190.0           52190.0           382.0          0.0   \n",
       "556    52311.0           52311.0           400.0          0.0   \n",
       "557    52456.0           52456.0           412.0          0.0   \n",
       "558    52521.0           52521.0           430.0          0.0   \n",
       "559    52715.0           52715.0           356.0          0.0   \n",
       "\n",
       "     AdrBal1in100MCnt  AssetEODCompletionTime  TxTfrValMedUSD  \\\n",
       "555           52093.0            1.614335e+09        0.158804   \n",
       "556           52208.0            1.614335e+09        0.212100   \n",
       "557           52344.0            1.614335e+09        0.102762   \n",
       "558           52397.0            1.614335e+09        1.465068   \n",
       "559           52577.0            1.614335e+09        0.059054   \n",
       "\n",
       "     AdrBalUSD10MCnt  SplyMiner0HopAllUSD  TxTfrValMeanUSD  FeeMeanUSD  \\\n",
       "555              0.0        204478.223612         4.187596    0.000273   \n",
       "556              0.0        192335.135472         7.025653    0.000012   \n",
       "557              0.0        178090.401130         3.178423    0.000000   \n",
       "558              0.0        188679.781277         5.687816    0.000000   \n",
       "559              0.0        139621.996594         6.590397    0.000000   \n",
       "\n",
       "     SplyAdrBalUSD10K  TxTfrValAdjUSD  AdrBalUSD100Cnt  SplyAdrBalUSD10M  \\\n",
       "555               0.0     1474.778412            102.0               0.0   \n",
       "556               0.0     3251.693384            103.0               0.0   \n",
       "557               0.0     1200.497201            101.0               0.0   \n",
       "558               0.0     1649.915979            104.0               0.0   \n",
       "559               0.0     1932.368865             90.0               0.0   \n",
       "\n",
       "     AdrBalUSD10KCnt  SplyMiner1HopAllNtv  AdrBalUSD1KCnt  SplyAdrBalUSD1M  \\\n",
       "555              0.0           3119011.46            18.0              0.0   \n",
       "556              0.0           3124984.49            19.0              0.0   \n",
       "557              0.0           3132645.14            17.0              0.0   \n",
       "558              0.0           3139232.45            18.0              0.0   \n",
       "559              0.0           3143642.45            14.0              0.0   \n",
       "\n",
       "     SplyAdrBalUSD100K  \n",
       "555                0.0  \n",
       "556                0.0  \n",
       "557                0.0  \n",
       "558                0.0  \n",
       "559                0.0  "
      ]
     },
     "execution_count": 26,
     "metadata": {},
     "output_type": "execute_result"
    }
   ],
   "source": [
    "X.head()"
   ]
  },
  {
   "cell_type": "code",
   "execution_count": 27,
   "metadata": {},
   "outputs": [
    {
     "data": {
      "text/plain": [
       "555    0.080800\n",
       "556    0.074736\n",
       "557    0.079193\n",
       "558    0.058470\n",
       "559    0.060593\n",
       "Name: PriceUSD, dtype: float64"
      ]
     },
     "execution_count": 27,
     "metadata": {},
     "output_type": "execute_result"
    }
   ],
   "source": [
    "y.head()"
   ]
  },
  {
   "cell_type": "markdown",
   "metadata": {},
   "source": [
    "### Normalization"
   ]
  },
  {
   "cell_type": "code",
   "execution_count": 28,
   "metadata": {},
   "outputs": [],
   "source": [
    "# Min Max Scaler"
   ]
  },
  {
   "cell_type": "code",
   "execution_count": 29,
   "metadata": {},
   "outputs": [],
   "source": [
    "from sklearn.preprocessing import MinMaxScaler\n",
    "scaler = MinMaxScaler()\n",
    "scaler.fit(X)\n",
    "X = scaler.transform(X)"
   ]
  },
  {
   "cell_type": "code",
   "execution_count": 30,
   "metadata": {},
   "outputs": [
    {
     "data": {
      "text/plain": [
       "array([[0.00000000e+00, 0.00000000e+00, 9.76176231e-07, ...,\n",
       "        6.68748078e-07, 0.00000000e+00, 0.00000000e+00],\n",
       "       [2.86371791e-06, 1.19800936e-05, 1.65199055e-06, ...,\n",
       "        8.02497694e-07, 0.00000000e+00, 0.00000000e+00],\n",
       "       [6.29544599e-06, 2.63364042e-05, 2.10253342e-06, ...,\n",
       "        5.34998463e-07, 0.00000000e+00, 0.00000000e+00],\n",
       "       ...,\n",
       "       [9.95246276e-01, 9.96894284e-01, 9.40348649e-01, ...,\n",
       "        7.53596561e-01, 9.40595490e-01, 9.69091987e-01],\n",
       "       [9.97699796e-01, 9.99830299e-01, 9.15105783e-01, ...,\n",
       "        6.98527163e-01, 9.28820070e-01, 9.60737886e-01],\n",
       "       [9.95825220e-01, 1.00000000e+00, 9.10947985e-01, ...,\n",
       "        6.96164074e-01, 9.27293582e-01, 9.59974184e-01]])"
      ]
     },
     "execution_count": 30,
     "metadata": {},
     "output_type": "execute_result"
    }
   ],
   "source": [
    "X"
   ]
  },
  {
   "cell_type": "markdown",
   "metadata": {},
   "source": [
    "### Dataset split"
   ]
  },
  {
   "cell_type": "code",
   "execution_count": 31,
   "metadata": {},
   "outputs": [],
   "source": [
    "from sklearn.model_selection import train_test_split"
   ]
  },
  {
   "cell_type": "code",
   "execution_count": 73,
   "metadata": {},
   "outputs": [
    {
     "name": "stdout",
     "output_type": "stream",
     "text": [
      "(3915, 20)\n",
      "(3915,)\n",
      "(217, 20)\n",
      "(217,)\n",
      "(218, 20)\n",
      "(218,)\n"
     ]
    },
    {
     "data": {
      "text/plain": [
       "(None, None)"
      ]
     },
     "execution_count": 73,
     "metadata": {},
     "output_type": "execute_result"
    }
   ],
   "source": [
    "X_train, X_rem, y_train, y_rem = train_test_split(X,y, train_size=0.9, shuffle=False) # Train and (validation + test)\n",
    "\n",
    "X_valid, X_test, y_valid, y_test = train_test_split(X_rem,y_rem, test_size=0.5, shuffle=False) # validation and test\n",
    "\n",
    "print(X_train.shape), print(y_train.shape)\n",
    "print(X_valid.shape), print(y_valid.shape)\n",
    "print(X_test.shape), print(y_test.shape)"
   ]
  },
  {
   "cell_type": "markdown",
   "metadata": {},
   "source": [
    "# Predictons"
   ]
  },
  {
   "cell_type": "markdown",
   "metadata": {},
   "source": [
    "#### Linear regression"
   ]
  },
  {
   "cell_type": "code",
   "execution_count": 74,
   "metadata": {},
   "outputs": [],
   "source": [
    "from sklearn.linear_model import LinearRegression"
   ]
  },
  {
   "cell_type": "code",
   "execution_count": 75,
   "metadata": {},
   "outputs": [],
   "source": [
    "reg = LinearRegression().fit(X_train, y_train)"
   ]
  },
  {
   "cell_type": "code",
   "execution_count": 76,
   "metadata": {},
   "outputs": [
    {
     "data": {
      "text/plain": [
       "0.9977512591623195"
      ]
     },
     "execution_count": 76,
     "metadata": {},
     "output_type": "execute_result"
    }
   ],
   "source": [
    "reg.score(X_train, y_train)"
   ]
  },
  {
   "cell_type": "code",
   "execution_count": 77,
   "metadata": {},
   "outputs": [
    {
     "data": {
      "text/plain": [
       "array([ -147.41692969,  -661.60050283,  3662.6430982 , -2813.47746892,\n",
       "         758.66468361, -6732.19037068,   164.61583372,  4216.72742975,\n",
       "       64632.19471261,  2412.34223739,  -357.92321725,   131.43745667,\n",
       "        2308.40955973, -5623.12830973, -1737.28170927,  1012.48262398,\n",
       "         -70.08253903,  1498.50691112,  1925.316621  , -1202.60008568])"
      ]
     },
     "execution_count": 77,
     "metadata": {},
     "output_type": "execute_result"
    }
   ],
   "source": [
    "reg.coef_"
   ]
  },
  {
   "cell_type": "code",
   "execution_count": 78,
   "metadata": {},
   "outputs": [
    {
     "data": {
      "text/plain": [
       "63.735021405646876"
      ]
     },
     "execution_count": 78,
     "metadata": {},
     "output_type": "execute_result"
    }
   ],
   "source": [
    "reg.intercept_"
   ]
  },
  {
   "cell_type": "code",
   "execution_count": 79,
   "metadata": {},
   "outputs": [],
   "source": [
    "results_valid = reg.predict(X_valid)"
   ]
  },
  {
   "cell_type": "code",
   "execution_count": 80,
   "metadata": {},
   "outputs": [
    {
     "data": {
      "text/plain": [
       "5384055.931299117"
      ]
     },
     "execution_count": 80,
     "metadata": {},
     "output_type": "execute_result"
    }
   ],
   "source": [
    "from sklearn.metrics import mean_squared_error\n",
    "mean_squared_error(y_valid, results_valid)"
   ]
  },
  {
   "cell_type": "code",
   "execution_count": 81,
   "metadata": {},
   "outputs": [
    {
     "data": {
      "text/plain": [
       "0.9462189417831341"
      ]
     },
     "execution_count": 81,
     "metadata": {},
     "output_type": "execute_result"
    }
   ],
   "source": [
    "from sklearn.metrics import r2_score\n",
    "r2_score(y_valid, results_valid)"
   ]
  },
  {
   "cell_type": "code",
   "execution_count": 82,
   "metadata": {},
   "outputs": [
    {
     "data": {
      "text/plain": [
       "4470    56266.834676\n",
       "4471    57963.344599\n",
       "4472    58051.762556\n",
       "4473    59651.558988\n",
       "4474    59932.930647\n",
       "4475    59905.936374\n",
       "4476    63445.638314\n",
       "4477    62869.495587\n",
       "4478    63231.162987\n",
       "4479    61571.110091\n",
       "Name: PriceUSD, dtype: float64"
      ]
     },
     "execution_count": 82,
     "metadata": {},
     "output_type": "execute_result"
    }
   ],
   "source": [
    "y_valid[:10]"
   ]
  },
  {
   "cell_type": "code",
   "execution_count": 83,
   "metadata": {},
   "outputs": [
    {
     "data": {
      "text/plain": [
       "array([58410.51752862, 56332.91384311, 58311.34887282, 58297.17753134,\n",
       "       59631.43589015, 59957.4711713 , 59850.52373672, 63214.28467572,\n",
       "       62786.58554445, 63173.63212281])"
      ]
     },
     "execution_count": 83,
     "metadata": {},
     "output_type": "execute_result"
    }
   ],
   "source": [
    "results_valid[:10]"
   ]
  },
  {
   "cell_type": "code",
   "execution_count": 84,
   "metadata": {},
   "outputs": [
    {
     "data": {
      "image/png": "[encoded data removed]",
      "text/plain": [
       "<Figure size 960x480 with 1 Axes>"
      ]
     },
     "metadata": {
      "needs_background": "light"
     },
     "output_type": "display_data"
    }
   ],
   "source": [
    "from matplotlib.pyplot import figure\n",
    "figure(figsize=(12, 6), dpi=80)\n",
    "\n",
    "plt.plot(y_valid.values, label = \"Actual\", alpha=0.5)\n",
    "plt.plot(results_valid, label = \"Predicted\", alpha=0.5)\n",
    "plt.xlabel(\"curvature\")\n",
    "plt.ylabel(\"predicted curvature\")\n",
    "plt.title(\"curvature vs Predicted curvature\")\n",
    "plt.legend()\n",
    "plt.show()"
   ]
  },
  {
   "cell_type": "markdown",
   "metadata": {},
   "source": [
    "#### Decision trees"
   ]
  },
  {
   "cell_type": "code",
   "execution_count": 85,
   "metadata": {},
   "outputs": [
    {
     "name": "stdout",
     "output_type": "stream",
     "text": [
      "15746518.153438296\n"
     ]
    },
    {
     "data": {
      "text/plain": [
       "0.8427088387771149"
      ]
     },
     "execution_count": 85,
     "metadata": {},
     "output_type": "execute_result"
    }
   ],
   "source": [
    "from sklearn.ensemble import RandomForestRegressor\n",
    "from sklearn.tree import DecisionTreeRegressor\n",
    "# randomFor = RandomForestRegressor()\n",
    "decTree = DecisionTreeRegressor()\n",
    "decTree.fit(X_train, y_train)\n",
    "results_valid = decTree.predict(X_valid)\n",
    "print(mean_squared_error(y_valid, results_valid))\n",
    "r2_score(y_valid, results_valid)"
   ]
  },
  {
   "cell_type": "code",
   "execution_count": 86,
   "metadata": {},
   "outputs": [
    {
     "data": {
      "image/png": "[encoded data removed]",
      "text/plain": [
       "<Figure size 960x480 with 1 Axes>"
      ]
     },
     "metadata": {
      "needs_background": "light"
     },
     "output_type": "display_data"
    }
   ],
   "source": [
    "figure(figsize=(12, 6), dpi=80)\n",
    "plt.plot(y_valid.values, label = \"Actual\", alpha=0.5)\n",
    "plt.plot(results_valid, label = \"Predicted\", alpha=0.5)\n",
    "plt.xlabel(\"days\")\n",
    "plt.ylabel(\"price USD\")\n",
    "plt.title(\"Actual price vs Predicted price\")\n",
    "plt.legend()\n",
    "plt.show()"
   ]
  },
  {
   "cell_type": "markdown",
   "metadata": {},
   "source": [
    "#### Random Forest"
   ]
  },
  {
   "cell_type": "code",
   "execution_count": 87,
   "metadata": {},
   "outputs": [
    {
     "name": "stdout",
     "output_type": "stream",
     "text": [
      "46665185.35608824\n"
     ]
    },
    {
     "data": {
      "text/plain": [
       "0.5338638598185859"
      ]
     },
     "execution_count": 87,
     "metadata": {},
     "output_type": "execute_result"
    }
   ],
   "source": [
    "randomFor = RandomForestRegressor()\n",
    "randomFor.fit(X_train, y_train)\n",
    "results_valid = randomFor.predict(X_valid)\n",
    "print(mean_squared_error(y_valid, results_valid))\n",
    "r2_score(y_valid, results_valid)"
   ]
  },
  {
   "cell_type": "code",
   "execution_count": 88,
   "metadata": {},
   "outputs": [
    {
     "data": {
      "text/plain": [
       "217"
      ]
     },
     "execution_count": 88,
     "metadata": {},
     "output_type": "execute_result"
    }
   ],
   "source": [
    "y_valid.shape[0]"
   ]
  },
  {
   "cell_type": "code",
   "execution_count": 89,
   "metadata": {},
   "outputs": [
    {
     "data": {
      "image/png": "[encoded data removed]",
      "text/plain": [
       "<Figure size 960x480 with 1 Axes>"
      ]
     },
     "metadata": {
      "needs_background": "light"
     },
     "output_type": "display_data"
    }
   ],
   "source": [
    "figure(figsize=(12, 6), dpi=80)\n",
    "plt.plot(y_valid.values, label = \"Actual\", alpha=0.5)\n",
    "plt.plot(results_valid , label = \"Predicted\", alpha=0.5)\n",
    "plt.xlabel(\"days\")\n",
    "plt.ylabel(\"price USD\")\n",
    "plt.title(\"Actual price vs Predicted price\")\n",
    "plt.legend()\n",
    "plt.show()"
   ]
  },
  {
   "cell_type": "markdown",
   "metadata": {},
   "source": [
    "#### Suport vector regressor"
   ]
  },
  {
   "cell_type": "code",
   "execution_count": 90,
   "metadata": {},
   "outputs": [
    {
     "name": "stdout",
     "output_type": "stream",
     "text": [
      "2140236541.938693\n"
     ]
    },
    {
     "data": {
      "text/plain": [
       "-20.378712912459502"
      ]
     },
     "execution_count": 90,
     "metadata": {},
     "output_type": "execute_result"
    }
   ],
   "source": [
    "from sklearn.svm import SVR\n",
    "SVR = SVR()\n",
    "SVR.fit(X_train, y_train)\n",
    "results_valid = SVR.predict(X_valid)\n",
    "print(mean_squared_error(y_valid, results_valid))\n",
    "r2_score(y_valid, results_valid)"
   ]
  },
  {
   "cell_type": "code",
   "execution_count": 91,
   "metadata": {},
   "outputs": [
    {
     "data": {
      "image/png": "[encoded data removed]",
      "text/plain": [
       "<Figure size 960x480 with 1 Axes>"
      ]
     },
     "metadata": {
      "needs_background": "light"
     },
     "output_type": "display_data"
    }
   ],
   "source": [
    "figure(figsize=(12, 6), dpi=80)\n",
    "plt.plot(y_valid.values, label = \"Actual\", alpha=0.5)\n",
    "plt.plot(results_valid, label = \"Predicted\", alpha=0.5)\n",
    "plt.xlabel(\"days\")\n",
    "plt.ylabel(\"price USD\")\n",
    "plt.title(\"Actual price vs Predicted price\")\n",
    "plt.legend()\n",
    "plt.show()"
   ]
  },
  {
   "cell_type": "markdown",
   "metadata": {},
   "source": [
    "#### Neural network"
   ]
  },
  {
   "cell_type": "code",
   "execution_count": 92,
   "metadata": {},
   "outputs": [
    {
     "name": "stdout",
     "output_type": "stream",
     "text": [
      "Epoch 1/50\n",
      "196/196 [==============================] - 0s 606us/step - loss: 82353040.0000\n",
      "Epoch 2/50\n",
      "196/196 [==============================] - 0s 617us/step - loss: 82340512.0000\n",
      "Epoch 3/50\n",
      "196/196 [==============================] - 0s 802us/step - loss: 82330744.0000\n",
      "Epoch 4/50\n",
      "196/196 [==============================] - 0s 847us/step - loss: 82321512.0000\n",
      "Epoch 5/50\n",
      "196/196 [==============================] - 0s 716us/step - loss: 82312384.0000\n",
      "Epoch 6/50\n",
      "196/196 [==============================] - 0s 655us/step - loss: 82303376.0000\n",
      "Epoch 7/50\n",
      "196/196 [==============================] - 0s 655us/step - loss: 82294456.0000\n",
      "Epoch 8/50\n",
      "196/196 [==============================] - 0s 716us/step - loss: 82285648.0000\n",
      "Epoch 9/50\n",
      "196/196 [==============================] - 0s 828us/step - loss: 82276728.0000\n",
      "Epoch 10/50\n",
      "196/196 [==============================] - 0s 711us/step - loss: 82267944.0000\n",
      "Epoch 11/50\n",
      "196/196 [==============================] - 0s 701us/step - loss: 82259136.0000\n",
      "Epoch 12/50\n",
      "196/196 [==============================] - 0s 659us/step - loss: 82250360.0000\n",
      "Epoch 13/50\n",
      "196/196 [==============================] - 0s 665us/step - loss: 82241584.0000\n",
      "Epoch 14/50\n",
      "196/196 [==============================] - 0s 674us/step - loss: 82232864.0000\n",
      "Epoch 15/50\n",
      "196/196 [==============================] - 0s 685us/step - loss: 82224112.0000\n",
      "Epoch 16/50\n",
      "196/196 [==============================] - 0s 737us/step - loss: 82215360.0000\n",
      "Epoch 17/50\n",
      "196/196 [==============================] - 0s 911us/step - loss: 82206608.0000\n",
      "Epoch 18/50\n",
      "196/196 [==============================] - 0s 920us/step - loss: 82197872.0000\n",
      "Epoch 19/50\n",
      "196/196 [==============================] - 0s 971us/step - loss: 82189152.0000\n",
      "Epoch 20/50\n",
      "196/196 [==============================] - 0s 1ms/step - loss: 82180472.0000\n",
      "Epoch 21/50\n",
      "196/196 [==============================] - 0s 1ms/step - loss: 82171752.0000\n",
      "Epoch 22/50\n",
      "196/196 [==============================] - 0s 1ms/step - loss: 82163088.0000\n",
      "Epoch 23/50\n",
      "196/196 [==============================] - 0s 1ms/step - loss: 82154320.0000\n",
      "Epoch 24/50\n",
      "196/196 [==============================] - 0s 1ms/step - loss: 82145680.0000\n",
      "Epoch 25/50\n",
      "196/196 [==============================] - 0s 1ms/step - loss: 82136936.0000\n",
      "Epoch 26/50\n",
      "196/196 [==============================] - 0s 1ms/step - loss: 82128296.0000\n",
      "Epoch 27/50\n",
      "196/196 [==============================] - 0s 1ms/step - loss: 82119576.0000\n",
      "Epoch 28/50\n",
      "196/196 [==============================] - 0s 1ms/step - loss: 82110856.0000\n",
      "Epoch 29/50\n",
      "196/196 [==============================] - 0s 1ms/step - loss: 82102104.0000\n",
      "Epoch 30/50\n",
      "196/196 [==============================] - 0s 1ms/step - loss: 82093384.0000\n",
      "Epoch 31/50\n",
      "196/196 [==============================] - 0s 1ms/step - loss: 82084664.0000\n",
      "Epoch 32/50\n",
      "196/196 [==============================] - 0s 1ms/step - loss: 82076008.0000\n",
      "Epoch 33/50\n",
      "196/196 [==============================] - 0s 1ms/step - loss: 82067304.0000\n",
      "Epoch 34/50\n",
      "196/196 [==============================] - 0s 1ms/step - loss: 82058616.0000\n",
      "Epoch 35/50\n",
      "196/196 [==============================] - 0s 1ms/step - loss: 82049880.0000\n",
      "Epoch 36/50\n",
      "196/196 [==============================] - 0s 1ms/step - loss: 82041200.0000\n",
      "Epoch 37/50\n",
      "196/196 [==============================] - 0s 2ms/step - loss: 82032576.0000\n",
      "Epoch 38/50\n",
      "196/196 [==============================] - 0s 1ms/step - loss: 82023920.0000\n",
      "Epoch 39/50\n",
      "196/196 [==============================] - 0s 1ms/step - loss: 82015184.0000\n",
      "Epoch 40/50\n",
      "196/196 [==============================] - 0s 1ms/step - loss: 82006560.0000\n",
      "Epoch 41/50\n",
      "196/196 [==============================] - 0s 1ms/step - loss: 81997880.0000\n",
      "Epoch 42/50\n",
      "196/196 [==============================] - 0s 1ms/step - loss: 81989216.0000\n",
      "Epoch 43/50\n",
      "196/196 [==============================] - 0s 1ms/step - loss: 81980592.0000\n",
      "Epoch 44/50\n",
      "196/196 [==============================] - 0s 1ms/step - loss: 81971936.0000\n",
      "Epoch 45/50\n",
      "196/196 [==============================] - 0s 1ms/step - loss: 81963272.0000\n",
      "Epoch 46/50\n",
      "196/196 [==============================] - 0s 1ms/step - loss: 81954648.0000\n",
      "Epoch 47/50\n",
      "196/196 [==============================] - 0s 1ms/step - loss: 81945968.0000\n",
      "Epoch 48/50\n",
      "196/196 [==============================] - 0s 1ms/step - loss: 81937360.0000\n",
      "Epoch 49/50\n",
      "196/196 [==============================] - 0s 1ms/step - loss: 81928712.0000\n",
      "Epoch 50/50\n",
      "196/196 [==============================] - 0s 1ms/step - loss: 81920080.0000\n"
     ]
    },
    {
     "data": {
      "text/plain": [
       "<keras.callbacks.History at 0x19fa148a2b0>"
      ]
     },
     "execution_count": 92,
     "metadata": {},
     "output_type": "execute_result"
    }
   ],
   "source": [
    "# importing the libraries\n",
    "from keras.models import Sequential\n",
    "from keras.layers import Dense\n",
    " \n",
    "# create ANN model\n",
    "model = Sequential()\n",
    " \n",
    "# Defining the Input layer and FIRST hidden layer, both are same!\n",
    "model.add(Dense(units=5, input_dim=X_train.shape[1], kernel_initializer='normal', activation='relu'))\n",
    " \n",
    "# Defining the Second layer of the model\n",
    "# after the first layer we don't have to specify input_dim as keras configure it automatically\n",
    "model.add(Dense(units=5, kernel_initializer='normal', activation='tanh'))\n",
    " \n",
    "# The output neuron is a single fully connected node \n",
    "# Since we will be predicting a single number\n",
    "model.add(Dense(1, kernel_initializer='normal'))\n",
    " \n",
    "# Compiling the model\n",
    "model.compile(loss='mean_squared_error', optimizer='adam')\n",
    " \n",
    "# Fitting the ANN to the Training set\n",
    "model.fit(X_train, y_train ,batch_size = 20, epochs = 50, verbose=1)"
   ]
  },
  {
   "cell_type": "code",
   "execution_count": 93,
   "metadata": {},
   "outputs": [
    {
     "name": "stdout",
     "output_type": "stream",
     "text": [
      "2263850023.6700115\n"
     ]
    },
    {
     "data": {
      "text/plain": [
       "-21.61348163370074"
      ]
     },
     "execution_count": 93,
     "metadata": {},
     "output_type": "execute_result"
    }
   ],
   "source": [
    "results_valid = model.predict(X_valid)\n",
    "print(mean_squared_error(y_valid, results_valid))\n",
    "r2_score(y_valid, results_valid)"
   ]
  },
  {
   "cell_type": "code",
   "execution_count": 94,
   "metadata": {},
   "outputs": [
    {
     "data": {
      "image/png": "[encoded data removed]",
      "text/plain": [
       "<Figure size 960x480 with 1 Axes>"
      ]
     },
     "metadata": {
      "needs_background": "light"
     },
     "output_type": "display_data"
    }
   ],
   "source": [
    "figure(figsize=(12, 6), dpi=80)\n",
    "plt.plot(y_valid.values, label = \"Actual\", alpha=0.5)\n",
    "plt.plot(results_valid, label = \"Predicted\", alpha=0.5)\n",
    "plt.xlabel(\"days\")\n",
    "plt.ylabel(\"price USD\")\n",
    "plt.title(\"Actual price vs Predicted price\")\n",
    "plt.legend()\n",
    "plt.show()"
   ]
  },
  {
   "cell_type": "code",
   "execution_count": 55,
   "metadata": {},
   "outputs": [
    {
     "ename": "ValueError",
     "evalue": "Data must be 1-dimensional",
     "output_type": "error",
     "traceback": [
      "\u001b[1;31m---------------------------------------------------------------------------\u001b[0m",
      "\u001b[1;31mValueError\u001b[0m                                Traceback (most recent call last)",
      "\u001b[1;32m<ipython-input-55-838d3c14f3db>\u001b[0m in \u001b[0;36m<module>\u001b[1;34m\u001b[0m\n\u001b[0;32m     44\u001b[0m \u001b[1;31m#############################################################\u001b[0m\u001b[1;33m\u001b[0m\u001b[1;33m\u001b[0m\u001b[1;33m\u001b[0m\u001b[0m\n\u001b[0;32m     45\u001b[0m \u001b[1;31m# Calling the function\u001b[0m\u001b[1;33m\u001b[0m\u001b[1;33m\u001b[0m\u001b[1;33m\u001b[0m\u001b[0m\n\u001b[1;32m---> 46\u001b[1;33m \u001b[0mResultsData\u001b[0m\u001b[1;33m=\u001b[0m\u001b[0mFunctionFindBestParams\u001b[0m\u001b[1;33m(\u001b[0m\u001b[0mX_train\u001b[0m\u001b[1;33m,\u001b[0m \u001b[0my_train\u001b[0m\u001b[1;33m,\u001b[0m \u001b[0mX_test\u001b[0m\u001b[1;33m,\u001b[0m \u001b[0my_test\u001b[0m\u001b[1;33m)\u001b[0m\u001b[1;33m\u001b[0m\u001b[1;33m\u001b[0m\u001b[0m\n\u001b[0m",
      "\u001b[1;32m<ipython-input-55-838d3c14f3db>\u001b[0m in \u001b[0;36mFunctionFindBestParams\u001b[1;34m(X_train, y_train, X_test, y_test)\u001b[0m\n\u001b[0;32m     32\u001b[0m             \u001b[0mmodel\u001b[0m\u001b[1;33m.\u001b[0m\u001b[0mfit\u001b[0m\u001b[1;33m(\u001b[0m\u001b[0mX_train\u001b[0m\u001b[1;33m,\u001b[0m \u001b[0my_train\u001b[0m \u001b[1;33m,\u001b[0m\u001b[0mbatch_size\u001b[0m \u001b[1;33m=\u001b[0m \u001b[0mbatch_size_trial\u001b[0m\u001b[1;33m,\u001b[0m \u001b[0mepochs\u001b[0m \u001b[1;33m=\u001b[0m \u001b[0mepochs_trial\u001b[0m\u001b[1;33m,\u001b[0m \u001b[0mverbose\u001b[0m\u001b[1;33m=\u001b[0m\u001b[1;36m0\u001b[0m\u001b[1;33m)\u001b[0m\u001b[1;33m\u001b[0m\u001b[1;33m\u001b[0m\u001b[0m\n\u001b[0;32m     33\u001b[0m \u001b[1;33m\u001b[0m\u001b[0m\n\u001b[1;32m---> 34\u001b[1;33m             \u001b[0mMAPE\u001b[0m \u001b[1;33m=\u001b[0m \u001b[0mnp\u001b[0m\u001b[1;33m.\u001b[0m\u001b[0mmean\u001b[0m\u001b[1;33m(\u001b[0m\u001b[1;36m100\u001b[0m \u001b[1;33m*\u001b[0m \u001b[1;33m(\u001b[0m\u001b[0mnp\u001b[0m\u001b[1;33m.\u001b[0m\u001b[0mabs\u001b[0m\u001b[1;33m(\u001b[0m\u001b[0my_test\u001b[0m\u001b[1;33m-\u001b[0m\u001b[0mmodel\u001b[0m\u001b[1;33m.\u001b[0m\u001b[0mpredict\u001b[0m\u001b[1;33m(\u001b[0m\u001b[0mX_test\u001b[0m\u001b[1;33m)\u001b[0m\u001b[1;33m)\u001b[0m\u001b[1;33m/\u001b[0m\u001b[0my_test\u001b[0m\u001b[1;33m.\u001b[0m\u001b[0mvalues\u001b[0m\u001b[1;33m)\u001b[0m\u001b[1;33m)\u001b[0m\u001b[1;33m\u001b[0m\u001b[1;33m\u001b[0m\u001b[0m\n\u001b[0m\u001b[0;32m     35\u001b[0m \u001b[1;33m\u001b[0m\u001b[0m\n\u001b[0;32m     36\u001b[0m             \u001b[1;31m# printing the results of the current iteration\u001b[0m\u001b[1;33m\u001b[0m\u001b[1;33m\u001b[0m\u001b[1;33m\u001b[0m\u001b[0m\n",
      "\u001b[1;32mc:\\users\\user\\appdata\\local\\programs\\python\\python38\\lib\\site-packages\\pandas\\core\\ops\\common.py\u001b[0m in \u001b[0;36mnew_method\u001b[1;34m(self, other)\u001b[0m\n\u001b[0;32m     68\u001b[0m         \u001b[0mother\u001b[0m \u001b[1;33m=\u001b[0m \u001b[0mitem_from_zerodim\u001b[0m\u001b[1;33m(\u001b[0m\u001b[0mother\u001b[0m\u001b[1;33m)\u001b[0m\u001b[1;33m\u001b[0m\u001b[1;33m\u001b[0m\u001b[0m\n\u001b[0;32m     69\u001b[0m \u001b[1;33m\u001b[0m\u001b[0m\n\u001b[1;32m---> 70\u001b[1;33m         \u001b[1;32mreturn\u001b[0m \u001b[0mmethod\u001b[0m\u001b[1;33m(\u001b[0m\u001b[0mself\u001b[0m\u001b[1;33m,\u001b[0m \u001b[0mother\u001b[0m\u001b[1;33m)\u001b[0m\u001b[1;33m\u001b[0m\u001b[1;33m\u001b[0m\u001b[0m\n\u001b[0m\u001b[0;32m     71\u001b[0m \u001b[1;33m\u001b[0m\u001b[0m\n\u001b[0;32m     72\u001b[0m     \u001b[1;32mreturn\u001b[0m \u001b[0mnew_method\u001b[0m\u001b[1;33m\u001b[0m\u001b[1;33m\u001b[0m\u001b[0m\n",
      "\u001b[1;32mc:\\users\\user\\appdata\\local\\programs\\python\\python38\\lib\\site-packages\\pandas\\core\\arraylike.py\u001b[0m in \u001b[0;36m__sub__\u001b[1;34m(self, other)\u001b[0m\n\u001b[0;32m    106\u001b[0m     \u001b[1;33m@\u001b[0m\u001b[0munpack_zerodim_and_defer\u001b[0m\u001b[1;33m(\u001b[0m\u001b[1;34m\"__sub__\"\u001b[0m\u001b[1;33m)\u001b[0m\u001b[1;33m\u001b[0m\u001b[1;33m\u001b[0m\u001b[0m\n\u001b[0;32m    107\u001b[0m     \u001b[1;32mdef\u001b[0m \u001b[0m__sub__\u001b[0m\u001b[1;33m(\u001b[0m\u001b[0mself\u001b[0m\u001b[1;33m,\u001b[0m \u001b[0mother\u001b[0m\u001b[1;33m)\u001b[0m\u001b[1;33m:\u001b[0m\u001b[1;33m\u001b[0m\u001b[1;33m\u001b[0m\u001b[0m\n\u001b[1;32m--> 108\u001b[1;33m         \u001b[1;32mreturn\u001b[0m \u001b[0mself\u001b[0m\u001b[1;33m.\u001b[0m\u001b[0m_arith_method\u001b[0m\u001b[1;33m(\u001b[0m\u001b[0mother\u001b[0m\u001b[1;33m,\u001b[0m \u001b[0moperator\u001b[0m\u001b[1;33m.\u001b[0m\u001b[0msub\u001b[0m\u001b[1;33m)\u001b[0m\u001b[1;33m\u001b[0m\u001b[1;33m\u001b[0m\u001b[0m\n\u001b[0m\u001b[0;32m    109\u001b[0m \u001b[1;33m\u001b[0m\u001b[0m\n\u001b[0;32m    110\u001b[0m     \u001b[1;33m@\u001b[0m\u001b[0munpack_zerodim_and_defer\u001b[0m\u001b[1;33m(\u001b[0m\u001b[1;34m\"__rsub__\"\u001b[0m\u001b[1;33m)\u001b[0m\u001b[1;33m\u001b[0m\u001b[1;33m\u001b[0m\u001b[0m\n",
      "\u001b[1;32mc:\\users\\user\\appdata\\local\\programs\\python\\python38\\lib\\site-packages\\pandas\\core\\series.py\u001b[0m in \u001b[0;36m_arith_method\u001b[1;34m(self, other, op)\u001b[0m\n\u001b[0;32m   5637\u001b[0m     \u001b[1;32mdef\u001b[0m \u001b[0m_arith_method\u001b[0m\u001b[1;33m(\u001b[0m\u001b[0mself\u001b[0m\u001b[1;33m,\u001b[0m \u001b[0mother\u001b[0m\u001b[1;33m,\u001b[0m \u001b[0mop\u001b[0m\u001b[1;33m)\u001b[0m\u001b[1;33m:\u001b[0m\u001b[1;33m\u001b[0m\u001b[1;33m\u001b[0m\u001b[0m\n\u001b[0;32m   5638\u001b[0m         \u001b[0mself\u001b[0m\u001b[1;33m,\u001b[0m \u001b[0mother\u001b[0m \u001b[1;33m=\u001b[0m \u001b[0mops\u001b[0m\u001b[1;33m.\u001b[0m\u001b[0malign_method_SERIES\u001b[0m\u001b[1;33m(\u001b[0m\u001b[0mself\u001b[0m\u001b[1;33m,\u001b[0m \u001b[0mother\u001b[0m\u001b[1;33m)\u001b[0m\u001b[1;33m\u001b[0m\u001b[1;33m\u001b[0m\u001b[0m\n\u001b[1;32m-> 5639\u001b[1;33m         \u001b[1;32mreturn\u001b[0m \u001b[0mbase\u001b[0m\u001b[1;33m.\u001b[0m\u001b[0mIndexOpsMixin\u001b[0m\u001b[1;33m.\u001b[0m\u001b[0m_arith_method\u001b[0m\u001b[1;33m(\u001b[0m\u001b[0mself\u001b[0m\u001b[1;33m,\u001b[0m \u001b[0mother\u001b[0m\u001b[1;33m,\u001b[0m \u001b[0mop\u001b[0m\u001b[1;33m)\u001b[0m\u001b[1;33m\u001b[0m\u001b[1;33m\u001b[0m\u001b[0m\n\u001b[0m\u001b[0;32m   5640\u001b[0m \u001b[1;33m\u001b[0m\u001b[0m\n\u001b[0;32m   5641\u001b[0m \u001b[1;33m\u001b[0m\u001b[0m\n",
      "\u001b[1;32mc:\\users\\user\\appdata\\local\\programs\\python\\python38\\lib\\site-packages\\pandas\\core\\base.py\u001b[0m in \u001b[0;36m_arith_method\u001b[1;34m(self, other, op)\u001b[0m\n\u001b[0;32m   1295\u001b[0m             \u001b[0mresult\u001b[0m \u001b[1;33m=\u001b[0m \u001b[0mops\u001b[0m\u001b[1;33m.\u001b[0m\u001b[0marithmetic_op\u001b[0m\u001b[1;33m(\u001b[0m\u001b[0mlvalues\u001b[0m\u001b[1;33m,\u001b[0m \u001b[0mrvalues\u001b[0m\u001b[1;33m,\u001b[0m \u001b[0mop\u001b[0m\u001b[1;33m)\u001b[0m\u001b[1;33m\u001b[0m\u001b[1;33m\u001b[0m\u001b[0m\n\u001b[0;32m   1296\u001b[0m \u001b[1;33m\u001b[0m\u001b[0m\n\u001b[1;32m-> 1297\u001b[1;33m         \u001b[1;32mreturn\u001b[0m \u001b[0mself\u001b[0m\u001b[1;33m.\u001b[0m\u001b[0m_construct_result\u001b[0m\u001b[1;33m(\u001b[0m\u001b[0mresult\u001b[0m\u001b[1;33m,\u001b[0m \u001b[0mname\u001b[0m\u001b[1;33m=\u001b[0m\u001b[0mres_name\u001b[0m\u001b[1;33m)\u001b[0m\u001b[1;33m\u001b[0m\u001b[1;33m\u001b[0m\u001b[0m\n\u001b[0m\u001b[0;32m   1298\u001b[0m \u001b[1;33m\u001b[0m\u001b[0m\n\u001b[0;32m   1299\u001b[0m     \u001b[1;32mdef\u001b[0m \u001b[0m_construct_result\u001b[0m\u001b[1;33m(\u001b[0m\u001b[0mself\u001b[0m\u001b[1;33m,\u001b[0m \u001b[0mresult\u001b[0m\u001b[1;33m,\u001b[0m \u001b[0mname\u001b[0m\u001b[1;33m)\u001b[0m\u001b[1;33m:\u001b[0m\u001b[1;33m\u001b[0m\u001b[1;33m\u001b[0m\u001b[0m\n",
      "\u001b[1;32mc:\\users\\user\\appdata\\local\\programs\\python\\python38\\lib\\site-packages\\pandas\\core\\series.py\u001b[0m in \u001b[0;36m_construct_result\u001b[1;34m(self, result, name)\u001b[0m\n\u001b[0;32m   3015\u001b[0m         \u001b[1;31m# We do not pass dtype to ensure that the Series constructor\u001b[0m\u001b[1;33m\u001b[0m\u001b[1;33m\u001b[0m\u001b[1;33m\u001b[0m\u001b[0m\n\u001b[0;32m   3016\u001b[0m         \u001b[1;31m#  does inference in the case where `result` has object-dtype.\u001b[0m\u001b[1;33m\u001b[0m\u001b[1;33m\u001b[0m\u001b[1;33m\u001b[0m\u001b[0m\n\u001b[1;32m-> 3017\u001b[1;33m         \u001b[0mout\u001b[0m \u001b[1;33m=\u001b[0m \u001b[0mself\u001b[0m\u001b[1;33m.\u001b[0m\u001b[0m_constructor\u001b[0m\u001b[1;33m(\u001b[0m\u001b[0mresult\u001b[0m\u001b[1;33m,\u001b[0m \u001b[0mindex\u001b[0m\u001b[1;33m=\u001b[0m\u001b[0mself\u001b[0m\u001b[1;33m.\u001b[0m\u001b[0mindex\u001b[0m\u001b[1;33m)\u001b[0m\u001b[1;33m\u001b[0m\u001b[1;33m\u001b[0m\u001b[0m\n\u001b[0m\u001b[0;32m   3018\u001b[0m         \u001b[0mout\u001b[0m \u001b[1;33m=\u001b[0m \u001b[0mout\u001b[0m\u001b[1;33m.\u001b[0m\u001b[0m__finalize__\u001b[0m\u001b[1;33m(\u001b[0m\u001b[0mself\u001b[0m\u001b[1;33m)\u001b[0m\u001b[1;33m\u001b[0m\u001b[1;33m\u001b[0m\u001b[0m\n\u001b[0;32m   3019\u001b[0m \u001b[1;33m\u001b[0m\u001b[0m\n",
      "\u001b[1;32mc:\\users\\user\\appdata\\local\\programs\\python\\python38\\lib\\site-packages\\pandas\\core\\series.py\u001b[0m in \u001b[0;36m__init__\u001b[1;34m(self, data, index, dtype, name, copy, fastpath)\u001b[0m\n\u001b[0;32m    449\u001b[0m                     \u001b[0mdata\u001b[0m \u001b[1;33m=\u001b[0m \u001b[0mdata\u001b[0m\u001b[1;33m.\u001b[0m\u001b[0mcopy\u001b[0m\u001b[1;33m(\u001b[0m\u001b[1;33m)\u001b[0m\u001b[1;33m\u001b[0m\u001b[1;33m\u001b[0m\u001b[0m\n\u001b[0;32m    450\u001b[0m             \u001b[1;32melse\u001b[0m\u001b[1;33m:\u001b[0m\u001b[1;33m\u001b[0m\u001b[1;33m\u001b[0m\u001b[0m\n\u001b[1;32m--> 451\u001b[1;33m                 \u001b[0mdata\u001b[0m \u001b[1;33m=\u001b[0m \u001b[0msanitize_array\u001b[0m\u001b[1;33m(\u001b[0m\u001b[0mdata\u001b[0m\u001b[1;33m,\u001b[0m \u001b[0mindex\u001b[0m\u001b[1;33m,\u001b[0m \u001b[0mdtype\u001b[0m\u001b[1;33m,\u001b[0m \u001b[0mcopy\u001b[0m\u001b[1;33m)\u001b[0m\u001b[1;33m\u001b[0m\u001b[1;33m\u001b[0m\u001b[0m\n\u001b[0m\u001b[0;32m    452\u001b[0m \u001b[1;33m\u001b[0m\u001b[0m\n\u001b[0;32m    453\u001b[0m                 \u001b[0mmanager\u001b[0m \u001b[1;33m=\u001b[0m \u001b[0mget_option\u001b[0m\u001b[1;33m(\u001b[0m\u001b[1;34m\"mode.data_manager\"\u001b[0m\u001b[1;33m)\u001b[0m\u001b[1;33m\u001b[0m\u001b[1;33m\u001b[0m\u001b[0m\n",
      "\u001b[1;32mc:\\users\\user\\appdata\\local\\programs\\python\\python38\\lib\\site-packages\\pandas\\core\\construction.py\u001b[0m in \u001b[0;36msanitize_array\u001b[1;34m(data, index, dtype, copy, raise_cast_failure, allow_2d)\u001b[0m\n\u001b[0;32m    596\u001b[0m                 \u001b[0msubarr\u001b[0m \u001b[1;33m=\u001b[0m \u001b[0mmaybe_infer_to_datetimelike\u001b[0m\u001b[1;33m(\u001b[0m\u001b[0msubarr\u001b[0m\u001b[1;33m)\u001b[0m\u001b[1;33m\u001b[0m\u001b[1;33m\u001b[0m\u001b[0m\n\u001b[0;32m    597\u001b[0m \u001b[1;33m\u001b[0m\u001b[0m\n\u001b[1;32m--> 598\u001b[1;33m     \u001b[0msubarr\u001b[0m \u001b[1;33m=\u001b[0m \u001b[0m_sanitize_ndim\u001b[0m\u001b[1;33m(\u001b[0m\u001b[0msubarr\u001b[0m\u001b[1;33m,\u001b[0m \u001b[0mdata\u001b[0m\u001b[1;33m,\u001b[0m \u001b[0mdtype\u001b[0m\u001b[1;33m,\u001b[0m \u001b[0mindex\u001b[0m\u001b[1;33m,\u001b[0m \u001b[0mallow_2d\u001b[0m\u001b[1;33m=\u001b[0m\u001b[0mallow_2d\u001b[0m\u001b[1;33m)\u001b[0m\u001b[1;33m\u001b[0m\u001b[1;33m\u001b[0m\u001b[0m\n\u001b[0m\u001b[0;32m    599\u001b[0m \u001b[1;33m\u001b[0m\u001b[0m\n\u001b[0;32m    600\u001b[0m     \u001b[1;32mif\u001b[0m \u001b[0misinstance\u001b[0m\u001b[1;33m(\u001b[0m\u001b[0msubarr\u001b[0m\u001b[1;33m,\u001b[0m \u001b[0mnp\u001b[0m\u001b[1;33m.\u001b[0m\u001b[0mndarray\u001b[0m\u001b[1;33m)\u001b[0m\u001b[1;33m:\u001b[0m\u001b[1;33m\u001b[0m\u001b[1;33m\u001b[0m\u001b[0m\n",
      "\u001b[1;32mc:\\users\\user\\appdata\\local\\programs\\python\\python38\\lib\\site-packages\\pandas\\core\\construction.py\u001b[0m in \u001b[0;36m_sanitize_ndim\u001b[1;34m(result, data, dtype, index, allow_2d)\u001b[0m\n\u001b[0;32m    647\u001b[0m             \u001b[1;32mif\u001b[0m \u001b[0mallow_2d\u001b[0m\u001b[1;33m:\u001b[0m\u001b[1;33m\u001b[0m\u001b[1;33m\u001b[0m\u001b[0m\n\u001b[0;32m    648\u001b[0m                 \u001b[1;32mreturn\u001b[0m \u001b[0mresult\u001b[0m\u001b[1;33m\u001b[0m\u001b[1;33m\u001b[0m\u001b[0m\n\u001b[1;32m--> 649\u001b[1;33m             \u001b[1;32mraise\u001b[0m \u001b[0mValueError\u001b[0m\u001b[1;33m(\u001b[0m\u001b[1;34m\"Data must be 1-dimensional\"\u001b[0m\u001b[1;33m)\u001b[0m\u001b[1;33m\u001b[0m\u001b[1;33m\u001b[0m\u001b[0m\n\u001b[0m\u001b[0;32m    650\u001b[0m         \u001b[1;32mif\u001b[0m \u001b[0mis_object_dtype\u001b[0m\u001b[1;33m(\u001b[0m\u001b[0mdtype\u001b[0m\u001b[1;33m)\u001b[0m \u001b[1;32mand\u001b[0m \u001b[0misinstance\u001b[0m\u001b[1;33m(\u001b[0m\u001b[0mdtype\u001b[0m\u001b[1;33m,\u001b[0m \u001b[0mExtensionDtype\u001b[0m\u001b[1;33m)\u001b[0m\u001b[1;33m:\u001b[0m\u001b[1;33m\u001b[0m\u001b[1;33m\u001b[0m\u001b[0m\n\u001b[0;32m    651\u001b[0m             \u001b[1;31m# i.e. PandasDtype(\"O\")\u001b[0m\u001b[1;33m\u001b[0m\u001b[1;33m\u001b[0m\u001b[1;33m\u001b[0m\u001b[0m\n",
      "\u001b[1;31mValueError\u001b[0m: Data must be 1-dimensional"
     ]
    }
   ],
   "source": [
    "# Defining a function to find the best parameters for ANN\n",
    "def FunctionFindBestParams(X_train, y_train, X_test, y_test):\n",
    "    \n",
    "    # Defining the list of hyper parameters to try\n",
    "    batch_size_list=[5, 10, 15, 20]\n",
    "    epoch_list  =   [5, 10, 50, 100]\n",
    "    \n",
    "    import pandas as pd\n",
    "    SearchResultsData=pd.DataFrame(columns=['TrialNumber', 'Parameters', 'Accuracy'])\n",
    "    \n",
    "    # initializing the trials\n",
    "    TrialNumber=0\n",
    "    for batch_size_trial in batch_size_list:\n",
    "        for epochs_trial in epoch_list:\n",
    "            TrialNumber+=1\n",
    "            # create ANN model\n",
    "            model = Sequential()\n",
    "            # Defining the first layer of the model\n",
    "            model.add(Dense(units=5, input_dim=X_train.shape[1], kernel_initializer='normal', activation='relu'))\n",
    " \n",
    "            # Defining the Second layer of the model\n",
    "            model.add(Dense(units=5, kernel_initializer='normal', activation='relu'))\n",
    " \n",
    "            # The output neuron is a single fully connected node \n",
    "            # Since we will be predicting a single number\n",
    "            model.add(Dense(1, kernel_initializer='normal'))\n",
    " \n",
    "            # Compiling the model\n",
    "            model.compile(loss='mean_squared_error', optimizer='adam')\n",
    " \n",
    "            # Fitting the ANN to the Training set\n",
    "            model.fit(X_train, y_train ,batch_size = batch_size_trial, epochs = epochs_trial, verbose=0)\n",
    " \n",
    "            MAPE = np.mean(100 * (np.abs(y_test-model.predict(X_test))/y_test.values))\n",
    "            \n",
    "            # printing the results of the current iteration\n",
    "            print(TrialNumber, 'Parameters:','batch_size:', batch_size_trial,'-', 'epochs:',epochs_trial, 'Accuracy:', 100-MAPE)\n",
    "            \n",
    "            SearchResultsData=SearchResultsData.append(pd.DataFrame(data=[[TrialNumber, str(batch_size_trial)+'-'+str(epochs_trial), 100-MAPE]],\n",
    "                                                                    columns=['TrialNumber', 'Parameters', 'Accuracy'] ))\n",
    "    return(SearchResultsData)\n",
    " \n",
    " \n",
    "#############################################################\n",
    "# Calling the function\n",
    "ResultsData=FunctionFindBestParams(X_train, y_train, X_test, y_test)"
   ]
  },
  {
   "cell_type": "code",
   "execution_count": null,
   "metadata": {
    "id": "_PQf7UBDFcJ7"
   },
   "outputs": [],
   "source": [
    "def make_dataset_from_ts(d, num_x=10, value=None):\n",
    "    for idx in range(num_x):\n",
    "        d['t-' + str(idx+1)] = d[value].shift(+(idx+1))\n",
    "    return d[num_x:]"
   ]
  },
  {
   "cell_type": "code",
   "execution_count": null,
   "metadata": {
    "colab": {
     "base_uri": "https://localhost:8080/",
     "height": 329
    },
    "id": "CoJFRzQqRC6d",
    "outputId": "3d4b8999-db32-4696-f43f-580f715fc764"
   },
   "outputs": [],
   "source": [
    "btc_price = btc[['date', 'PriceUSD']]\n",
    "btc_price = btc_price.dropna()"
   ]
  },
  {
   "cell_type": "code",
   "execution_count": null,
   "metadata": {
    "colab": {
     "base_uri": "https://localhost:8080/",
     "height": 206
    },
    "id": "iEfIQAv5K4ty",
    "outputId": "9c13f4ce-7de1-43b2-8d29-8644d0bc90dc"
   },
   "outputs": [],
   "source": [
    "btc_price.head()"
   ]
  },
  {
   "cell_type": "code",
   "execution_count": null,
   "metadata": {
    "colab": {
     "base_uri": "https://localhost:8080/",
     "height": 166
    },
    "id": "bTuPZKklEcwS",
    "outputId": "455ef47a-2f47-495b-a280-1fc5b4db18fd"
   },
   "outputs": [],
   "source": [
    "btc_price = make_dataset_from_ts(btc_price, num_x=1, value=\"PriceUSD\")"
   ]
  },
  {
   "cell_type": "code",
   "execution_count": null,
   "metadata": {
    "id": "tFuDTEggG-Jn"
   },
   "outputs": [],
   "source": [
    "btc_price['log_diff'] = np.log(btc_price['PriceUSD']) - np.log(btc_price['t-1'])"
   ]
  },
  {
   "cell_type": "code",
   "execution_count": null,
   "metadata": {
    "id": "qyO_ETg8HOpg"
   },
   "outputs": [],
   "source": [
    "btc_price['change%'] = round(btc_price['log_diff']*100, 2)"
   ]
  },
  {
   "cell_type": "code",
   "execution_count": null,
   "metadata": {
    "id": "5LciXc2-HnTn"
   },
   "outputs": [],
   "source": [
    "btc_price['target'] = [1 if btc_price > 0 else 0 for btc_price in btc_price['log_diff']]"
   ]
  },
  {
   "cell_type": "code",
   "execution_count": null,
   "metadata": {
    "colab": {
     "base_uri": "https://localhost:8080/",
     "height": 206
    },
    "id": "npUTm-NbIHTo",
    "outputId": "79bbd932-fc60-415e-b620-f775d95256de"
   },
   "outputs": [],
   "source": [
    "btc_price.head()"
   ]
  },
  {
   "cell_type": "code",
   "execution_count": null,
   "metadata": {
    "colab": {
     "base_uri": "https://localhost:8080/"
    },
    "id": "hlN3hrODIPv7",
    "outputId": "72a07dc9-3468-43bd-b8ba-a7a5173cdf4a"
   },
   "outputs": [],
   "source": [
    "years = [2010+year for year in range(12)]\n",
    "print(years)\n"
   ]
  },
  {
   "cell_type": "markdown",
   "metadata": {
    "id": "4Qs3hO54c-Ib"
   },
   "source": [
    "# **Change in price by year**"
   ]
  },
  {
   "cell_type": "code",
   "execution_count": null,
   "metadata": {
    "colab": {
     "base_uri": "https://localhost:8080/",
     "height": 285
    },
    "id": "ZLfezt8cXQFX",
    "outputId": "f440c7cc-e8a2-4ac9-f5d1-a2c1a8819d3a"
   },
   "outputs": [],
   "source": [
    "#plot_btc = btc_price.set_index(\"date\", inplace=True)\n",
    "#print(plot_btc)\n",
    "btc_price['PriceUSD'].plot()"
   ]
  },
  {
   "cell_type": "code",
   "execution_count": null,
   "metadata": {
    "colab": {
     "base_uri": "https://localhost:8080/"
    },
    "id": "wxm6mwZyWuor",
    "outputId": "46c87e0d-79b5-4410-bf08-09a474b812cd"
   },
   "outputs": [],
   "source": [
    "for el in years:\n",
    "    print(\"\"+ str(el)+ \" in USD: Mean price: \" + str(round(btc_price[btc_price['year'] == str(el)]['PriceUSD'].mean(), 2)) +\n",
    "        \",  Variance: \" +str(round(btc_price[btc_price['year'] == str(el)]['PriceUSD'].std(), 2)))\n",
    "    if years.index(el) !=0:\n",
    "        V1 = btc_price[btc_price['year'] == str(el-1)]['PriceUSD'].mean()\n",
    "        V2 = btc_price[btc_price['year'] == str(el)]['PriceUSD'].mean()\n",
    "    print(\"Price change: \" + str(round((V2 - V1)/abs(V1) * 100, 2)) + \" %\")\n"
   ]
  },
  {
   "cell_type": "markdown",
   "metadata": {
    "id": "Yv40TFfig8Ar"
   },
   "source": [
    "# **Daily predictive power of the crypto**"
   ]
  },
  {
   "cell_type": "markdown",
   "metadata": {
    "id": "9_kQZr8BdLNk"
   },
   "source": [
    "**Daily return difference by year**\n",
    "\n",
    "```\n",
    "# This is formatted as code\n",
    "```\n",
    "\n",
    "**"
   ]
  },
  {
   "cell_type": "code",
   "execution_count": null,
   "metadata": {
    "colab": {
     "base_uri": "https://localhost:8080/",
     "height": 607
    },
    "id": "RV6vD0CwJx8n",
    "outputId": "9cccb21f-8170-4933-d1ab-7ef80e5c39d1"
   },
   "outputs": [],
   "source": [
    "\n",
    "#matplotlib.rcParams['figure.figsize'] = (6.0, 6.0)\n",
    "\n",
    "\n",
    "fig, ((ax1, ax2, ax3, ax4), (ax5, ax6, ax7, ax8), (ax9, ax10, ax11, ax12)) = plt.subplots(ncols=4, nrows=3,figsize=(15, 10))\n",
    "axes = [ax1, ax2, ax3, ax4, ax5, ax6, ax7, ax8, ax9, ax10, ax11, ax12]\n",
    "for idx, el in enumerate(years):\n",
    "    btc_price[btc_price['year'] == str(el)].hist('log_diff', ax=axes[idx])\n",
    "    axes[idx].set_title(str(el))\n"
   ]
  },
  {
   "cell_type": "markdown",
   "metadata": {
    "id": "1fDCc_omEnI4"
   },
   "source": [
    "# **TIME SERIES ANALYSIS**"
   ]
  },
  {
   "cell_type": "markdown",
   "metadata": {
    "id": "QxuzqgNUEuGZ"
   },
   "source": [
    "**Autocorrelation**"
   ]
  },
  {
   "cell_type": "code",
   "execution_count": null,
   "metadata": {
    "colab": {
     "base_uri": "https://localhost:8080/",
     "height": 607
    },
    "id": "7AKLtNq-ct77",
    "outputId": "f6020a1e-6467-413a-9b29-7669746be3d3"
   },
   "outputs": [],
   "source": [
    "fig, ((ax1, ax2, ax3, ax4), (ax5, ax6, ax7, ax8), (ax9, ax10, ax11, ax12)) = plt.subplots(ncols=4, nrows=3,figsize=(15, 10))\n",
    "axes = [ax1, ax2, ax3, ax4, ax5, ax6, ax7, ax8, ax9, ax10, ax11, ax12]\n",
    "for idx, el in enumerate(years):\n",
    "    plot_acf(btc_price[btc_price['year'] == str(el)]['PriceUSD'],  lags=30, ax=axes[idx])\n",
    "    axes[idx].set_title(str(el))"
   ]
  },
  {
   "cell_type": "markdown",
   "metadata": {
    "id": "c0NncuotE0Wk"
   },
   "source": [
    "**Partial Autocorrelation**"
   ]
  },
  {
   "cell_type": "code",
   "execution_count": null,
   "metadata": {
    "colab": {
     "base_uri": "https://localhost:8080/",
     "height": 607
    },
    "id": "9WLwOE5rfw-u",
    "outputId": "fa555b70-a90e-4d7c-d7ee-2cb905e4c640"
   },
   "outputs": [],
   "source": [
    "fig, ((ax1, ax2, ax3, ax4), (ax5, ax6, ax7, ax8), (ax9, ax10, ax11, ax12)) = plt.subplots(ncols=4, nrows=3,figsize=(15, 10))\n",
    "axes = [ax1, ax2, ax3, ax4, ax5, ax6, ax7, ax8, ax9, ax10, ax11, ax12]\n",
    "for idx, el in enumerate(years):\n",
    "  plot_pacf(btc_price[btc_price['year'] == str(el)]['PriceUSD'],  lags=30, ax=axes[idx])\n",
    "  axes[idx].set_title(str(el))"
   ]
  },
  {
   "cell_type": "markdown",
   "metadata": {
    "id": "bc5OaxDrE76X"
   },
   "source": [
    "**Autocorrelation and Partial Autocorrelation for the whole time**"
   ]
  },
  {
   "cell_type": "code",
   "execution_count": null,
   "metadata": {
    "colab": {
     "base_uri": "https://localhost:8080/",
     "height": 299
    },
    "id": "C43GZVIegEzt",
    "outputId": "7fa71d2c-8ac3-4f65-8dca-0da0a268f2b1"
   },
   "outputs": [],
   "source": [
    "fig, ((ax1, ax2)) = plt.subplots(ncols=2, nrows=1,figsize=(8, 4))\n",
    "plot_acf(btc_price['PriceUSD'],  lags=30, ax=ax1)\n",
    "axes[idx].set_title(\"Autocorrelation\")\n",
    "plot_pacf(btc_price['PriceUSD'],  lags=30, ax=ax2)\n",
    "axes[idx].set_title(\"Parcial autocorrelation\")"
   ]
  },
  {
   "cell_type": "code",
   "execution_count": null,
   "metadata": {
    "colab": {
     "base_uri": "https://localhost:8080/",
     "height": 351
    },
    "id": "DTudrXljhQ9K",
    "outputId": "db3c6ff9-9120-4919-a2a4-8969546e0e48"
   },
   "outputs": [],
   "source": [
    "fig, ((ax1)) = plt.subplots(ncols=1, nrows=1, figsize=(10, 5))\n",
    "pd.plotting.autocorrelation_plot(btc_price['PriceUSD'], ax = ax1)"
   ]
  },
  {
   "cell_type": "code",
   "execution_count": null,
   "metadata": {
    "colab": {
     "base_uri": "https://localhost:8080/",
     "height": 206
    },
    "id": "gYJcLzKFGFWa",
    "outputId": "c40cb2b5-256b-43e6-8e7d-ddc1f8496079"
   },
   "outputs": [],
   "source": [
    "btc_price.head()"
   ]
  },
  {
   "cell_type": "code",
   "execution_count": null,
   "metadata": {
    "colab": {
     "base_uri": "https://localhost:8080/"
    },
    "id": "R96c-jCycsb-",
    "outputId": "9c44b59c-3844-42e3-c9ef-09783115a5ca"
   },
   "outputs": [],
   "source": [
    "btc_price['PriceUSD']"
   ]
  },
  {
   "cell_type": "markdown",
   "metadata": {
    "id": "Q_yE-x7xcx0u"
   },
   "source": [
    "Prediction\n"
   ]
  },
  {
   "cell_type": "code",
   "execution_count": null,
   "metadata": {
    "colab": {
     "base_uri": "https://localhost:8080/"
    },
    "id": "82IOPpYZczp5",
    "outputId": "59696bfe-be3a-45da-90fc-714db50bb3ac"
   },
   "outputs": [],
   "source": [
    "btc_price['PriceUSD']"
   ]
  },
  {
   "cell_type": "code",
   "execution_count": null,
   "metadata": {
    "colab": {
     "base_uri": "https://localhost:8080/"
    },
    "id": "riYKfBSrczw3",
    "outputId": "951db784-236e-4bd6-f7f4-7462d867c023"
   },
   "outputs": [],
   "source": [
    "btc_price['PriceUSD']"
   ]
  },
  {
   "cell_type": "code",
   "execution_count": null,
   "metadata": {
    "id": "f76OQOJeeU13"
   },
   "outputs": [],
   "source": [
    "from sklearn.linear_model import LinearRegression"
   ]
  },
  {
   "cell_type": "code",
   "execution_count": null,
   "metadata": {
    "id": "F7oxNA-vdeFQ"
   },
   "outputs": [],
   "source": [
    "model = LinearRegression()"
   ]
  },
  {
   "cell_type": "code",
   "execution_count": null,
   "metadata": {
    "id": "Woa-MVa8edp6"
   },
   "outputs": [],
   "source": [
    "model.fit(X, y)"
   ]
  },
  {
   "cell_type": "markdown",
   "metadata": {
    "id": "xR1Q295oOFKh"
   },
   "source": [
    "# **SOURCES:**\n",
    "\n",
    "\n",
    "*   https://machinelearningmastery.com/decompose-time-series-data-trend-seasonality/\n",
    "*   https://pythondata.com/forecasting-time-series-autoregression/\n",
    "* https://otexts.com/fpp2/what-can-be-forecast.html\n"
   ]
  }
 ],
 "metadata": {
  "colab": {
   "name": "Cryptoasset_price.ipynb",
   "provenance": []
  },
  "kernelspec": {
   "display_name": "Python 3",
   "language": "python",
   "name": "python3"
  },
  "language_info": {
   "codemirror_mode": {
    "name": "ipython",
    "version": 3
   },
   "file_extension": ".py",
   "mimetype": "text/x-python",
   "name": "python",
   "nbconvert_exporter": "python",
   "pygments_lexer": "ipython3",
   "version": "3.8.7"
  }
 },
 "nbformat": 4,
 "nbformat_minor": 4
}
